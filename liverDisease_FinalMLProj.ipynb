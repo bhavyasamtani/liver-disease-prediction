{
 "cells": [
  {
   "cell_type": "markdown",
   "id": "7b631f4a",
   "metadata": {},
   "source": [
    "### IS 670 Sec01 10855 Machine Learning for Business Analytics\n",
    "Under the guidance of Prof. Moy Patel\n",
    "\n"
   ]
  },
  {
   "cell_type": "markdown",
   "id": "65c79e2c",
   "metadata": {},
   "source": [
    "### Liver Disease Prediction using Machine Learning"
   ]
  },
  {
   "cell_type": "markdown",
   "id": "35c9e22c",
   "metadata": {},
   "source": [
    "As part of a data-driven healthcare analytics initiative, we were tasked with selecting a high-impact medical condition for predictive modeling. Among various prevalent disorders in the industry—such as cardiovascular diseases, diabetes, and renal failure—we selected liver disease due to its rising incidence and the diagnostic challenges it presents. This project aims to develop a machine learning-based classification model for early liver disease detection using clinical attributes"
   ]
  },
  {
   "cell_type": "markdown",
   "id": "92f27046",
   "metadata": {},
   "source": [
    "### Project Overview:\n",
    "\n",
    "Liver disease is a critical global health issue that affects millions and can lead to life-threatening complications if not detected early. This project leverages machine learning to build a predictive model that can classify patients as liver-diseased (1) or non-liver-diseased (0) based on a variety of biochemical and demographic features.\n",
    "\n",
    "The goal is to create an automated tool to assist early-stage diagnosis — potentially saving lives by enabling timely medical intervention.\n",
    "\n",
    "We make predictions of liver disease in patients using clinical and demographic data. We use different classification models and utilize SMOTE for class imbalance handling. We try to create a robust model that allows for early diagnosis of liver disease.\n"
   ]
  },
  {
   "cell_type": "markdown",
   "id": "147baf59",
   "metadata": {},
   "source": [
    "### CRISP-DM Methodolgy\n",
    "CRISP-DM (Cross-Industry Standard Process for Data Mining) is a structured framework for solving data science problems step by step.  \n",
    "In this project, it guided our approach from understanding liver disease data to building, evaluating, and interpreting predictive models."
   ]
  },
  {
   "cell_type": "markdown",
   "id": "0dc38c5b",
   "metadata": {},
   "source": [
    "### Part 1 - Dataset Understanding\n",
    "\n",
    "We used the **Indian Liver Patient Dataset (ILPD)** for this project, a real-world liver patient dataset from Andhra Pradesh, India. The dataset was originally designed by Prof. Bendi Venkata Ramana and others for a research study conducted during 2011–2012.\n",
    "\n",
    "####  Why This Dataset?\n",
    "\n",
    "- **Relevance to Healthcare**: Liver disease is a severe medical condition, and its diagnosis at an early stage significantly improves patient outcomes. This dataset provides the features required to train predictive models for medical diagnosis.\n",
    "- **Binary Classification Problem**: The `Result` column provides binary classification (1 = Liver Disease, 0 = No Disease), which is ideal for assessing machine learning models.\n",
    "- **Tabular, Structured Format**: Nicely structured data with numerical along with categorical features, and thus it is suitable for the application of a vast variety of ML algorithms.\n",
    "- **Real Clinical Indicators**: It has clinically applicable features such as bilirubin level, enzyme level, proteins, and gender/age — all the typical markers taken into consideration for liver function tests."
   ]
  },
  {
   "cell_type": "markdown",
   "id": "ed6c9bc9",
   "metadata": {},
   "source": [
    "### Dataset Overview\n",
    "\n",
    "- **Source**: Indian Liver Patient Dataset (ILPD)- Kaggle\n",
    "- **Original Contributors**: Prof. Bendi Venkata Ramana, Prof. M.S. Prasad Babu, and Prof. N.B. Venkateswarlu.\n",
    "- **Features**: Age, Gender, biochemical test results (bilirubin, enzymes, protein levels), and a target `Result` indicating liver disease.\n",
    "- **Target**: 'Result' (1 = Liver disease, 2 = No liver disease)\n",
    "\n",
    "| **Column Name**                | **Description**                                                  |\n",
    "|-------------------------------|------------------------------------------------------------------|\n",
    "| Age                           | Age of the patient in years.                                     |\n",
    "| Gender                        | Biological sex of the patient (Male/Female).                     |\n",
    "| TB (Total Bilirubin)          | Measures bilirubin levels, an indicator of liver function.       |\n",
    "| DB (Direct Bilirubin)         | Conjugated bilirubin directly processed by the liver.            |\n",
    "| Alkphos (Alkaline Phosphatase)| Enzyme level that may rise due to liver or bone disease.         |\n",
    "| SGPT (Alamine Aminotransferase)| Enzyme used to assess liver inflammation or damage.            |\n",
    "| SGOT (Aspartate Aminotransferase)| Another enzyme indicating liver or muscle damage.          |\n",
    "| TP (Total Proteins)           | Sum of albumin and globulin in blood — general health indicator. |\n",
    "| ALB (Albumin)                 | Liver-produced protein essential for bodily functions.           |\n",
    "| A/G Ratio                     | Ratio of albumin to globulin — helps detect liver/kidney disease.|\n",
    "| Selector (Result)             | Target variable: 1 = Liver Patient, 2 = Non-Liver Patient.        |\n",
    "\n"
   ]
  },
  {
   "cell_type": "markdown",
   "id": "2e2f856a",
   "metadata": {},
   "source": [
    "### Part 2 - Data Preparation\n",
    "In this phase, we imported the raw dataset and performed an initial inspection. This included displaying the first five records, identifying missing values, and checking for duplicate entries to assess the overall data quality before preprocessing.\n",
    "\n"
   ]
  },
  {
   "cell_type": "code",
   "execution_count": 7,
   "id": "d9501182",
   "metadata": {},
   "outputs": [
    {
     "name": "stdout",
     "output_type": "stream",
     "text": [
      "Shape: (30691, 11)\n",
      "<class 'pandas.core.frame.DataFrame'>\n",
      "RangeIndex: 30691 entries, 0 to 30690\n",
      "Data columns (total 11 columns):\n",
      " #   Column                                Non-Null Count  Dtype  \n",
      "---  ------                                --------------  -----  \n",
      " 0   Age of the patient                    30689 non-null  float64\n",
      " 1   Gender of the patient                 29789 non-null  object \n",
      " 2   Total Bilirubin                       30043 non-null  float64\n",
      " 3   Direct Bilirubin                      30130 non-null  float64\n",
      " 4    Alkphos Alkaline Phosphotase         29895 non-null  float64\n",
      " 5    Sgpt Alamine Aminotransferase        30153 non-null  float64\n",
      " 6   Sgot Aspartate Aminotransferase       30229 non-null  float64\n",
      " 7   Total Protiens                        30228 non-null  float64\n",
      " 8    ALB Albumin                          30197 non-null  float64\n",
      " 9   A/G Ratio Albumin and Globulin Ratio  30132 non-null  float64\n",
      " 10  Result                                30691 non-null  int64  \n",
      "dtypes: float64(9), int64(1), object(1)\n",
      "memory usage: 2.6+ MB\n",
      "None\n",
      "\n",
      "First 5 Rows:\n"
     ]
    },
    {
     "data": {
      "text/html": [
       "<div>\n",
       "<style scoped>\n",
       "    .dataframe tbody tr th:only-of-type {\n",
       "        vertical-align: middle;\n",
       "    }\n",
       "\n",
       "    .dataframe tbody tr th {\n",
       "        vertical-align: top;\n",
       "    }\n",
       "\n",
       "    .dataframe thead th {\n",
       "        text-align: right;\n",
       "    }\n",
       "</style>\n",
       "<table border=\"1\" class=\"dataframe\">\n",
       "  <thead>\n",
       "    <tr style=\"text-align: right;\">\n",
       "      <th></th>\n",
       "      <th>Age of the patient</th>\n",
       "      <th>Gender of the patient</th>\n",
       "      <th>Total Bilirubin</th>\n",
       "      <th>Direct Bilirubin</th>\n",
       "      <th>Alkphos Alkaline Phosphotase</th>\n",
       "      <th>Sgpt Alamine Aminotransferase</th>\n",
       "      <th>Sgot Aspartate Aminotransferase</th>\n",
       "      <th>Total Protiens</th>\n",
       "      <th>ALB Albumin</th>\n",
       "      <th>A/G Ratio Albumin and Globulin Ratio</th>\n",
       "      <th>Result</th>\n",
       "    </tr>\n",
       "  </thead>\n",
       "  <tbody>\n",
       "    <tr>\n",
       "      <th>0</th>\n",
       "      <td>65.0</td>\n",
       "      <td>Female</td>\n",
       "      <td>0.7</td>\n",
       "      <td>0.1</td>\n",
       "      <td>187.0</td>\n",
       "      <td>16.0</td>\n",
       "      <td>18.0</td>\n",
       "      <td>6.8</td>\n",
       "      <td>3.3</td>\n",
       "      <td>0.90</td>\n",
       "      <td>1</td>\n",
       "    </tr>\n",
       "    <tr>\n",
       "      <th>1</th>\n",
       "      <td>62.0</td>\n",
       "      <td>Male</td>\n",
       "      <td>10.9</td>\n",
       "      <td>5.5</td>\n",
       "      <td>699.0</td>\n",
       "      <td>64.0</td>\n",
       "      <td>100.0</td>\n",
       "      <td>7.5</td>\n",
       "      <td>3.2</td>\n",
       "      <td>0.74</td>\n",
       "      <td>1</td>\n",
       "    </tr>\n",
       "    <tr>\n",
       "      <th>2</th>\n",
       "      <td>62.0</td>\n",
       "      <td>Male</td>\n",
       "      <td>7.3</td>\n",
       "      <td>4.1</td>\n",
       "      <td>490.0</td>\n",
       "      <td>60.0</td>\n",
       "      <td>68.0</td>\n",
       "      <td>7.0</td>\n",
       "      <td>3.3</td>\n",
       "      <td>0.89</td>\n",
       "      <td>1</td>\n",
       "    </tr>\n",
       "    <tr>\n",
       "      <th>3</th>\n",
       "      <td>58.0</td>\n",
       "      <td>Male</td>\n",
       "      <td>1.0</td>\n",
       "      <td>0.4</td>\n",
       "      <td>182.0</td>\n",
       "      <td>14.0</td>\n",
       "      <td>20.0</td>\n",
       "      <td>6.8</td>\n",
       "      <td>3.4</td>\n",
       "      <td>1.00</td>\n",
       "      <td>1</td>\n",
       "    </tr>\n",
       "    <tr>\n",
       "      <th>4</th>\n",
       "      <td>72.0</td>\n",
       "      <td>Male</td>\n",
       "      <td>3.9</td>\n",
       "      <td>2.0</td>\n",
       "      <td>195.0</td>\n",
       "      <td>27.0</td>\n",
       "      <td>59.0</td>\n",
       "      <td>7.3</td>\n",
       "      <td>2.4</td>\n",
       "      <td>0.40</td>\n",
       "      <td>1</td>\n",
       "    </tr>\n",
       "  </tbody>\n",
       "</table>\n",
       "</div>"
      ],
      "text/plain": [
       "   Age of the patient Gender of the patient  Total Bilirubin  \\\n",
       "0                65.0                Female              0.7   \n",
       "1                62.0                  Male             10.9   \n",
       "2                62.0                  Male              7.3   \n",
       "3                58.0                  Male              1.0   \n",
       "4                72.0                  Male              3.9   \n",
       "\n",
       "   Direct Bilirubin   Alkphos Alkaline Phosphotase  \\\n",
       "0               0.1                          187.0   \n",
       "1               5.5                          699.0   \n",
       "2               4.1                          490.0   \n",
       "3               0.4                          182.0   \n",
       "4               2.0                          195.0   \n",
       "\n",
       "    Sgpt Alamine Aminotransferase  Sgot Aspartate Aminotransferase  \\\n",
       "0                            16.0                             18.0   \n",
       "1                            64.0                            100.0   \n",
       "2                            60.0                             68.0   \n",
       "3                            14.0                             20.0   \n",
       "4                            27.0                             59.0   \n",
       "\n",
       "   Total Protiens   ALB Albumin  A/G Ratio Albumin and Globulin Ratio  Result  \n",
       "0             6.8           3.3                                  0.90       1  \n",
       "1             7.5           3.2                                  0.74       1  \n",
       "2             7.0           3.3                                  0.89       1  \n",
       "3             6.8           3.4                                  1.00       1  \n",
       "4             7.3           2.4                                  0.40       1  "
      ]
     },
     "metadata": {},
     "output_type": "display_data"
    },
    {
     "name": "stdout",
     "output_type": "stream",
     "text": [
      "\n",
      "Missing Values per Column:\n"
     ]
    },
    {
     "data": {
      "text/plain": [
       "Age of the patient                        2\n",
       "Gender of the patient                   902\n",
       "Total Bilirubin                         648\n",
       "Direct Bilirubin                        561\n",
       " Alkphos Alkaline Phosphotase           796\n",
       " Sgpt Alamine Aminotransferase          538\n",
       "Sgot Aspartate Aminotransferase         462\n",
       "Total Protiens                          463\n",
       " ALB Albumin                            494\n",
       "A/G Ratio Albumin and Globulin Ratio    559\n",
       "Result                                    0\n",
       "dtype: int64"
      ]
     },
     "metadata": {},
     "output_type": "display_data"
    },
    {
     "name": "stdout",
     "output_type": "stream",
     "text": [
      "\n",
      "Duplicate Records Count: 11323\n"
     ]
    }
   ],
   "source": [
    "\n",
    "import pandas as pd\n",
    "\n",
    "df = pd.read_csv('Liver Patient Dataset (LPD)_train.csv', encoding='ISO-8859-1')\n",
    "\n",
    "# view its shape and basic info\n",
    "print(\"Shape:\", df.shape)\n",
    "print(df.info())\n",
    "\n",
    " #First 5 rows\n",
    "print(\"\\nFirst 5 Rows:\")\n",
    "display(df.head())\n",
    "\n",
    "# Missing Values\n",
    "print(\"\\nMissing Values per Column:\")\n",
    "display(df.isnull().sum())\n",
    "\n",
    "# Duplicate Records\n",
    "print(\"\\nDuplicate Records Count:\", df.duplicated().sum())\n"
   ]
  },
  {
   "cell_type": "markdown",
   "id": "0b891fc3",
   "metadata": {},
   "source": [
    "\n",
    "### 2.1 Heatmap of Missing Values\n",
    "\n",
    "The heatmap above visualizes missing data across all features. Dark lines represent missing values.\n",
    "\n",
    "- `Alkphos Alkaline Phosphotase`, `SGPT`, `SGOT`, and `A/G Ratio Albumin and Globulin Ratio` have significant missing entries.\n",
    "- `Age`, `Gender`, and `Result` are mostly complete.\n",
    "- The missing values appear randomly distributed, making it safe to impute them using central tendency methods (e.g., median imputation).\n"
   ]
  },
  {
   "cell_type": "code",
   "execution_count": 8,
   "id": "0bdad0e0",
   "metadata": {},
   "outputs": [
    {
     "data": {
      "image/png": "[encoded data removed]",
      "text/plain": [
       "<Figure size 864x432 with 1 Axes>"
      ]
     },
     "metadata": {
      "needs_background": "light"
     },
     "output_type": "display_data"
    }
   ],
   "source": [
    "import seaborn as sns\n",
    "import matplotlib.pyplot as plt\n",
    "\n",
    "plt.figure(figsize=(12,6))\n",
    "\n",
    "# Plotting heatmap\n",
    "sns.heatmap(df.isnull(), \n",
    "            cbar=False, \n",
    "            cmap='Blues', \n",
    "            yticklabels=False)  # This hides the 0, 300, 600 row numbers\n",
    "\n",
    "plt.title('Heatmap Showing Missing Values', fontsize=16)\n",
    "plt.xticks(rotation=45)  # Tilt x-axis labels for easier reading\n",
    "plt.show()\n",
    "\n"
   ]
  },
  {
   "cell_type": "markdown",
   "id": "20c48bbe",
   "metadata": {},
   "source": [
    "The above heatmap visually highlights the presence of missing data across multiple features. Columns like Alkphos, SGPT, SGOT, and A/G Ratio exhibit significant gaps, indicating the need for imputation or preprocessing before model training. Identifying these patterns early ensures cleaner, more reliable inputs for machine learning."
   ]
  },
  {
   "cell_type": "markdown",
   "id": "e72a43eb",
   "metadata": {},
   "source": [
    "### 2.2 Calculating the missing Value Percentages in the code:"
   ]
  },
  {
   "cell_type": "code",
   "execution_count": 9,
   "id": "4a5afd92",
   "metadata": {},
   "outputs": [
    {
     "name": "stdout",
     "output_type": "stream",
     "text": [
      "Gender of the patient                   2.94\n",
      " Alkphos Alkaline Phosphotase           2.59\n",
      "Total Bilirubin                         2.11\n",
      "Direct Bilirubin                        1.83\n",
      "A/G Ratio Albumin and Globulin Ratio    1.82\n",
      " Sgpt Alamine Aminotransferase          1.75\n",
      " ALB Albumin                            1.61\n",
      "Sgot Aspartate Aminotransferase         1.51\n",
      "Total Protiens                          1.51\n",
      "Age of the patient                      0.01\n",
      "dtype: float64\n"
     ]
    }
   ],
   "source": [
    "\n",
    "missing_percent = (df.isnull().sum() / len(df)) * 100\n",
    "missing_percent = missing_percent[missing_percent > 0]\n",
    "\n",
    "print(missing_percent.round(2).sort_values(ascending=False))"
   ]
  },
  {
   "cell_type": "code",
   "execution_count": 10,
   "id": "e69d0cb7",
   "metadata": {},
   "outputs": [
    {
     "name": "stdout",
     "output_type": "stream",
     "text": [
      "['Age of the patient', 'Gender of the patient', 'Total Bilirubin', 'Direct Bilirubin', '\\xa0Alkphos Alkaline Phosphotase', '\\xa0Sgpt Alamine Aminotransferase', 'Sgot Aspartate Aminotransferase', 'Total Protiens', '\\xa0ALB Albumin', 'A/G Ratio Albumin and Globulin Ratio', 'Result']\n"
     ]
    }
   ],
   "source": [
    "print(df.columns.tolist())"
   ]
  },
  {
   "cell_type": "code",
   "execution_count": 11,
   "id": "c368c853",
   "metadata": {},
   "outputs": [
    {
     "name": "stdout",
     "output_type": "stream",
     "text": [
      "['Age of the patient', 'Gender of the patient', 'Total Bilirubin', 'Direct Bilirubin', 'Alkphos Alkaline Phosphotase', 'Sgpt Alamine Aminotransferase', 'Sgot Aspartate Aminotransferase', 'Total Protiens', 'ALB Albumin', 'A/G Ratio Albumin and Globulin Ratio', 'Result']\n"
     ]
    }
   ],
   "source": [
    "# Clean column names: strip spaces and replace weird characters\n",
    "df.columns = df.columns.str.strip().str.replace('\\xa0', '', regex=True)\n",
    "df.columns = df.columns.str.replace(' +', ' ', regex=True)\n",
    "print(df.columns.tolist())\n"
   ]
  },
  {
   "cell_type": "markdown",
   "id": "363b5a3c",
   "metadata": {},
   "source": [
    "### 2.3 To Check the list of columns that should be numeric : "
   ]
  },
  {
   "cell_type": "code",
   "execution_count": 12,
   "id": "628bccb2",
   "metadata": {},
   "outputs": [
    {
     "name": "stdout",
     "output_type": "stream",
     "text": [
      "Column 'Age of the patient' has 2 non-numeric entries.\n",
      "Column 'Total Bilirubin' has 648 non-numeric entries.\n",
      "Column 'Direct Bilirubin' has 561 non-numeric entries.\n",
      "Column 'Alkphos Alkaline Phosphotase' has 796 non-numeric entries.\n",
      "Column 'Sgpt Alamine Aminotransferase' has 538 non-numeric entries.\n",
      "Column 'Sgot Aspartate Aminotransferase' has 462 non-numeric entries.\n",
      "Column 'Total Protiens' has 463 non-numeric entries.\n",
      "Column 'ALB Albumin' has 494 non-numeric entries.\n",
      "Column 'A/G Ratio Albumin and Globulin Ratio' has 559 non-numeric entries.\n"
     ]
    }
   ],
   "source": [
    "numeric_columns = ['Age of the patient', 'Total Bilirubin', 'Direct Bilirubin', 'Alkphos Alkaline Phosphotase', 'Sgpt Alamine Aminotransferase', 'Sgot Aspartate Aminotransferase', 'Total Protiens', 'ALB Albumin', 'A/G Ratio Albumin and Globulin Ratio', 'Result']\n",
    "# Check for non-numeric values\n",
    "for col in numeric_columns:\n",
    "    # Try converting to numeric; invalid entries will turn into NaN\n",
    "    non_numeric = pd.to_numeric(df[col], errors='coerce').isna()\n",
    "    non_numeric_count = non_numeric.sum()\n",
    "    \n",
    "    if non_numeric_count > 0:\n",
    "        print(f\"Column '{col}' has {non_numeric_count} non-numeric entries.\")\n"
   ]
  },
  {
   "cell_type": "markdown",
   "id": "ba821610",
   "metadata": {},
   "source": [
    "### 2.4  We started cleaning the first column  of our dataset 'Age of the patient'\n",
    "The `Age of the patient` column is a critical demographic feature for liver disease prediction. Upon inspection, it contained a small number of missing or invalid entries\n"
   ]
  },
  {
   "cell_type": "code",
   "execution_count": 13,
   "id": "2cf15964",
   "metadata": {},
   "outputs": [
    {
     "name": "stdout",
     "output_type": "stream",
     "text": [
      "Imputed missing ages with median: 45.0\n",
      "Missing values remaining in age column: 0\n"
     ]
    }
   ],
   "source": [
    "\n",
    "age_col = 'Age of the patient'\n",
    "# Convert to numeric and compute median\n",
    "df[age_col] = pd.to_numeric(df[age_col], errors='coerce')\n",
    "median_age = df[age_col].median()\n",
    "# Fill NaN values with median\n",
    "df[age_col] = df[age_col].fillna(median_age)\n",
    "\n",
    "print(f\"Imputed missing ages with median: {median_age}\")\n",
    "print(f\"Missing values remaining in age column: {df[age_col].isnull().sum()}\")"
   ]
  },
  {
   "cell_type": "markdown",
   "id": "54e737aa",
   "metadata": {},
   "source": [
    "### 2.5  We started cleaning the second column  of our dataset 'Gender'\n",
    "The `'Gender' column has two wntries Male and Female but followed by number of blanks. Removing all the rows with blanks"
   ]
  },
  {
   "cell_type": "code",
   "execution_count": 14,
   "id": "2ed6a4dc",
   "metadata": {},
   "outputs": [
    {
     "name": "stdout",
     "output_type": "stream",
     "text": [
      "['Female' 'Male' nan]\n",
      "Missing values in Gender column: 902\n"
     ]
    }
   ],
   "source": [
    "\n",
    "# Clean column names again\n",
    "df.columns = df.columns.str.strip().str.replace('\\xa0', '', regex=True)\n",
    "df.columns = df.columns.str.replace(' +', ' ', regex=True)\n",
    "\n",
    "# Now preview Gender column as it was originally\n",
    "print(df['Gender of the patient'].unique())\n",
    "print(f\"Missing values in Gender column: {df['Gender of the patient'].isnull().sum()}\")\n"
   ]
  },
  {
   "cell_type": "code",
   "execution_count": 15,
   "id": "dc05be1d",
   "metadata": {},
   "outputs": [
    {
     "name": "stdout",
     "output_type": "stream",
     "text": [
      "Dropped rows with missing gender.\n",
      "Remaining rows: 29789\n",
      "Missing values in gender column: 0\n"
     ]
    }
   ],
   "source": [
    "# Drop rows where 'Gender of the patient' is NaN\n",
    "df = df.dropna(subset=['Gender of the patient'])\n",
    "\n",
    "\n",
    "print(\"Dropped rows with missing gender.\")\n",
    "print(f\"Remaining rows: {df.shape[0]}\")\n",
    "print(f\"Missing values in gender column: {df['Gender of the patient'].isnull().sum()}\")\n"
   ]
  },
  {
   "cell_type": "markdown",
   "id": "015374c9",
   "metadata": {},
   "source": [
    "### 2.6   We started cleaning the third column  of our dataset 'Total Bilirubin'\n",
    "\n",
    "`Total Bilirubin` is a significant liver function test that measures how much bilirubin there is in the blood. High levels typically signify liver failure, so it's an essential predictor in this model.\n",
    "\n",
    "**Steps Taken:**\n",
    "- Converted the column to numeric to ensure data consistency\n",
    "- Identified and handled missing values using **median imputation**\n",
    "\n",
    "**Why Median?**\n",
    "- Bilirubin levels may vary significantly between patients and may have outliers that are way too high\n",
    "- Median avoids biasing by such outliers, and ensures the data near representing central behavior\n",
    "\n",
    "This stage will ensure that the `Total Bilirubin` feature is clean and ready for use during model training, free of bias caused by missing or malformed records.\n"
   ]
  },
  {
   "cell_type": "code",
   "execution_count": 16,
   "id": "1d782530",
   "metadata": {},
   "outputs": [
    {
     "name": "stdout",
     "output_type": "stream",
     "text": [
      "Imputed missing Total Bilirubin with median: 1.0\n",
      "Remaining missing values: 0\n"
     ]
    }
   ],
   "source": [
    "# Ensure the column is treated as numeric\n",
    "df['Total Bilirubin'] = pd.to_numeric(df['Total Bilirubin'], errors='coerce')\n",
    "\n",
    "# Calculate the median value\n",
    "median_bilirubin = df['Total Bilirubin'].median()\n",
    "\n",
    "# Fill missing values with the median\n",
    "df['Total Bilirubin'] = df['Total Bilirubin'].fillna(median_bilirubin)\n",
    "\n",
    "# Confirm the fix\n",
    "print(f\"Imputed missing Total Bilirubin with median: {median_bilirubin}\")\n",
    "print(f\"Remaining missing values: {df['Total Bilirubin'].isnull().sum()}\")\n"
   ]
  },
  {
   "cell_type": "markdown",
   "id": "0b3ed496",
   "metadata": {},
   "source": [
    "### 2.7  We started cleaning the fourth column  of our dataset 'DIRECT BILIRUBIN'\n",
    "\n",
    "`Direct Bilirubin` is the conjugated bilirubin metabolized and excreted by the liver. It's a significant clinical indicator and is used widely in combination with `Total Bilirubin` for liver function testing.\n",
    "\n",
    "**Steps Taken:**\n",
    "- Converted all values to numeric by coercing non-numeric inputs using `pd.to_numeric()`\n",
    "- Found missing values in the column\n",
    "- Replaced missing values with the **median** of the column\n",
    "\n",
    "**Why Median?**\n",
    "- Laboratory test results like bilirubin are prone to outliers\n",
    "- Median imputation maintains data integrity independently of the outliers\n",
    "\n",
    "The cleaning procedure guaranteed compliance with bilirubin-specific features and provides the model with valid input data.\n"
   ]
  },
  {
   "cell_type": "code",
   "execution_count": 17,
   "id": "9608624b",
   "metadata": {},
   "outputs": [
    {
     "name": "stdout",
     "output_type": "stream",
     "text": [
      "Missing values in Direct Bilirubin: 459\n"
     ]
    }
   ],
   "source": [
    "# Check how many values are missing\n",
    "missing_direct_bilirubin = df['Direct Bilirubin'].isnull().sum()\n",
    "print(f\"Missing values in Direct Bilirubin: {missing_direct_bilirubin}\")\n"
   ]
  },
  {
   "cell_type": "code",
   "execution_count": 18,
   "id": "282076e7",
   "metadata": {},
   "outputs": [
    {
     "name": "stdout",
     "output_type": "stream",
     "text": [
      " Imputed missing Direct Bilirubin with median: 0.3\n",
      "Remaining missing: 0\n"
     ]
    }
   ],
   "source": [
    "# Convert to numeric just in case\n",
    "df['Direct Bilirubin'] = pd.to_numeric(df['Direct Bilirubin'], errors='coerce')\n",
    "\n",
    "# Calculate median\n",
    "median_direct = df['Direct Bilirubin'].median()\n",
    "\n",
    "# Fill NaNs with the median\n",
    "df['Direct Bilirubin'] = df['Direct Bilirubin'].fillna(median_direct)\n",
    "\n",
    "print(f\" Imputed missing Direct Bilirubin with median: {median_direct}\")\n",
    "print(f\"Remaining missing: {df['Direct Bilirubin'].isnull().sum()}\")\n"
   ]
  },
  {
   "cell_type": "code",
   "execution_count": 19,
   "id": "61bbdcea",
   "metadata": {},
   "outputs": [
    {
     "name": "stdout",
     "output_type": "stream",
     "text": [
      " Columns with missing values:\n",
      "\n",
      "Alkphos Alkaline Phosphotase            726\n",
      "Sgpt Alamine Aminotransferase           481\n",
      "Sgot Aspartate Aminotransferase         409\n",
      "Total Protiens                          422\n",
      "ALB Albumin                             455\n",
      "A/G Ratio Albumin and Globulin Ratio    517\n",
      "dtype: int64\n",
      "\n",
      "Columns with NO missing values:\n",
      "\n",
      "Age of the patient       0\n",
      "Gender of the patient    0\n",
      "Total Bilirubin          0\n",
      "Direct Bilirubin         0\n",
      "Result                   0\n",
      "dtype: int64\n"
     ]
    }
   ],
   "source": [
    "# Step 1: Count missing values for all columns\n",
    "missing_summary = df.isnull().sum()\n",
    "\n",
    "# Step 2: Separate columns based on missing values\n",
    "columns_with_missing = missing_summary[missing_summary > 0]\n",
    "columns_without_missing = missing_summary[missing_summary == 0]\n",
    "\n",
    "# Print results\n",
    "print(\" Columns with missing values:\\n\")\n",
    "print(columns_with_missing)\n",
    "\n",
    "print(\"\\nColumns with NO missing values:\\n\")\n",
    "print(columns_without_missing)\n"
   ]
  },
  {
   "cell_type": "code",
   "execution_count": 20,
   "id": "1fc70ebc",
   "metadata": {},
   "outputs": [
    {
     "name": "stdout",
     "output_type": "stream",
     "text": [
      "Fixed missing ages with median: 45.0\n",
      "Missing in Age column now: 0\n"
     ]
    }
   ],
   "source": [
    "# Convert to numeric and re-impute missing age with median\n",
    "df['Age of the patient'] = pd.to_numeric(df['Age of the patient'], errors='coerce')\n",
    "median_age = df['Age of the patient'].median()\n",
    "df['Age of the patient'] = df['Age of the patient'].fillna(median_age)\n",
    "\n",
    "print(f\"Fixed missing ages with median: {median_age}\")\n",
    "print(f\"Missing in Age column now: {df['Age of the patient'].isnull().sum()}\")\n"
   ]
  },
  {
   "cell_type": "code",
   "execution_count": 21,
   "id": "254d6ca4",
   "metadata": {},
   "outputs": [
    {
     "name": "stdout",
     "output_type": "stream",
     "text": [
      " Columns with missing values:\n",
      "\n",
      "Alkphos Alkaline Phosphotase            726\n",
      "Sgpt Alamine Aminotransferase           481\n",
      "Sgot Aspartate Aminotransferase         409\n",
      "Total Protiens                          422\n",
      "ALB Albumin                             455\n",
      "A/G Ratio Albumin and Globulin Ratio    517\n",
      "dtype: int64\n",
      "\n",
      " Columns with NO missing values:\n",
      "\n",
      "Age of the patient       0\n",
      "Gender of the patient    0\n",
      "Total Bilirubin          0\n",
      "Direct Bilirubin         0\n",
      "Result                   0\n",
      "dtype: int64\n"
     ]
    }
   ],
   "source": [
    "# Count missing values for all columns\n",
    "missing_summary = df.isnull().sum()\n",
    "\n",
    "# Separate columns based on missing values\n",
    "columns_with_missing = missing_summary[missing_summary > 0]\n",
    "columns_without_missing = missing_summary[missing_summary == 0]\n",
    "\n",
    "print(\" Columns with missing values:\\n\")\n",
    "print(columns_with_missing)\n",
    "\n",
    "print(\"\\n Columns with NO missing values:\\n\")\n",
    "print(columns_without_missing)\n"
   ]
  },
  {
   "cell_type": "markdown",
   "id": "07dcb99f",
   "metadata": {},
   "source": [
    "### 2.8  We started cleaning the fifth column  of our dataset 'Alkphos Alkaline Phosphotase'\n",
    "\n",
    "`Alkphos Alkaline Phosphotase` is an enzyme that is linked with the bile ducts, and high levels can indicate liver damage or disease. It is an important biochemical marker in diagnosing the liver.\n",
    "\n",
    "**Steps Taken:**\n",
    "- Converted the column to numeric to keep it consistent\n",
    "- Detected a lot of missing values\n",
    "- Applied **median imputation** to fill in missing entries\n",
    "\n",
    "**Why Median?**\n",
    "- Levels of enzymes can have a high range with potential outliers\n",
    "- Using the median gives a robust, outlier-free fill value\n",
    "\n",
    "This cleaning process places the enzymatic data in good form for analysis and always assists in classifying liver disease.\n"
   ]
  },
  {
   "cell_type": "code",
   "execution_count": 22,
   "id": "95cafd33",
   "metadata": {},
   "outputs": [
    {
     "name": "stdout",
     "output_type": "stream",
     "text": [
      " Missing values in 'Alkphos Alkaline Phosphotase': 726\n"
     ]
    }
   ],
   "source": [
    "# Check missing values in 'Alkphos Alkaline Phosphotase'\n",
    "missing_alkphos = df['Alkphos Alkaline Phosphotase'].isnull().sum()\n",
    "\n",
    "print(f\" Missing values in 'Alkphos Alkaline Phosphotase': {missing_alkphos}\")\n"
   ]
  },
  {
   "cell_type": "code",
   "execution_count": 23,
   "id": "b0a613f0",
   "metadata": {},
   "outputs": [
    {
     "name": "stdout",
     "output_type": "stream",
     "text": [
      "Imputed missing Alkphos Alkaline Phosphotase with median: 209.0\n",
      "Remaining missing values: 0\n"
     ]
    }
   ],
   "source": [
    "\n",
    "df['Alkphos Alkaline Phosphotase'] = pd.to_numeric(df['Alkphos Alkaline Phosphotase'], errors='coerce')\n",
    "\n",
    "# Calculate the median\n",
    "median_alkphos = df['Alkphos Alkaline Phosphotase'].median()\n",
    "\n",
    "# Impute missing values\n",
    "df['Alkphos Alkaline Phosphotase'] = df['Alkphos Alkaline Phosphotase'].fillna(median_alkphos)\n",
    "\n",
    "print(f\"Imputed missing Alkphos Alkaline Phosphotase with median: {median_alkphos}\")\n",
    "print(f\"Remaining missing values: {df['Alkphos Alkaline Phosphotase'].isnull().sum()}\")\n"
   ]
  },
  {
   "cell_type": "markdown",
   "id": "6a531357",
   "metadata": {},
   "source": [
    "### 2.9 We started cleaning the sixth column  of our dataset 'SGPT'\n",
    "\n",
    "`SGPT Alamine Aminotransferase` is a liver enzyme that rises significantly with the damage of liver cells. It's a key diagnostic marker in liver function tests.\n",
    "\n",
    "**Steps Taken:**\n",
    "- Converted all values to numeric using type coercion\n",
    "- Identified missing values due to nulls or erroneous entries\n",
    "- Imputed missing values with the **median**\n",
    "\n",
    "**Why Median?**\n",
    "- Enzyme readings may aberrantly spike in some patients, creating outliers\n",
    "- Median imputation stops these outliers from skewing the central trend of the data\n",
    "\n",
    "This cleansing made SGPT a reliable input for the predictive model, increasing the diagnostic capability of the dataset."
   ]
  },
  {
   "cell_type": "code",
   "execution_count": 24,
   "id": "2b82c3de",
   "metadata": {},
   "outputs": [
    {
     "name": "stdout",
     "output_type": "stream",
     "text": [
      "Missing values in 'Sgpt Alamine Aminotransferase': 481\n"
     ]
    }
   ],
   "source": [
    "# Check missing values in SGPT (Sgpt Alamine Aminotransferase)\n",
    "missing_sgpt = df['Sgpt Alamine Aminotransferase'].isnull().sum()\n",
    "\n",
    "print(f\"Missing values in 'Sgpt Alamine Aminotransferase': {missing_sgpt}\")\n"
   ]
  },
  {
   "cell_type": "code",
   "execution_count": 25,
   "id": "559121b5",
   "metadata": {},
   "outputs": [
    {
     "name": "stdout",
     "output_type": "stream",
     "text": [
      "Imputed missing SGPT with median: 35.0\n",
      "Remaining missing values: 0\n"
     ]
    }
   ],
   "source": [
    "# Convert to numeric\n",
    "df['Sgpt Alamine Aminotransferase'] = pd.to_numeric(df['Sgpt Alamine Aminotransferase'], errors='coerce')\n",
    "\n",
    "# Calculate median\n",
    "median_sgpt = df['Sgpt Alamine Aminotransferase'].median()\n",
    "\n",
    "# Impute missing values with median\n",
    "df['Sgpt Alamine Aminotransferase'] = df['Sgpt Alamine Aminotransferase'].fillna(median_sgpt)\n",
    "\n",
    "print(f\"Imputed missing SGPT with median: {median_sgpt}\")\n",
    "print(f\"Remaining missing values: {df['Sgpt Alamine Aminotransferase'].isnull().sum()}\")\n"
   ]
  },
  {
   "cell_type": "markdown",
   "id": "41b5a8fe",
   "metadata": {},
   "source": [
    "### 2.10  We started cleaning the seventh column  of our dataset 'SGOT'\n",
    "`SGOT Aspartate Aminotransferase` is yet another vital liver enzyme which is generally tested together with SGPT. SGOT values, when found to be abnormal, might indicate liver damage or other metabolic conditions and are hence an integral variable in predicting liver disease.\n",
    "\n",
    "**Steps Taken:**\n",
    "- Converted all the entries to numerical format to accept non-consistent or non-numerical data\n",
    "- Discovered and replaced missing values\n",
    "- Imputed missing values via **median imputation**\n",
    "\n",
    "**Why Median?**\n",
    "- Levels of SGOT may vary broadly based on patient health\n",
    "- Median provides a strong means to impute missing values without being distorted by extreme outliers\n",
    "\n",
    "Data cleaning for this column made the feature uniform and reliable to apply in training a model.\n"
   ]
  },
  {
   "cell_type": "code",
   "execution_count": 26,
   "id": "b0c18043",
   "metadata": {},
   "outputs": [
    {
     "name": "stdout",
     "output_type": "stream",
     "text": [
      "Missing values in 'Sgot Aspartate Aminotransferase': 409\n"
     ]
    }
   ],
   "source": [
    "# Check missing values in SGOT\n",
    "missing_sgot = df['Sgot Aspartate Aminotransferase'].isnull().sum()\n",
    "\n",
    "print(f\"Missing values in 'Sgot Aspartate Aminotransferase': {missing_sgot}\")\n"
   ]
  },
  {
   "cell_type": "code",
   "execution_count": 27,
   "id": "f4c32d94",
   "metadata": {},
   "outputs": [
    {
     "name": "stdout",
     "output_type": "stream",
     "text": [
      "Imputed missing SGOT with median: 42.0\n",
      "Remaining missing: 0\n"
     ]
    }
   ],
   "source": [
    "# Convert to numeric\n",
    "df['Sgot Aspartate Aminotransferase'] = pd.to_numeric(df['Sgot Aspartate Aminotransferase'], errors='coerce')\n",
    "\n",
    "# Calculate median\n",
    "median_sgot = df['Sgot Aspartate Aminotransferase'].median()\n",
    "\n",
    "# Impute with median\n",
    "df['Sgot Aspartate Aminotransferase'] = df['Sgot Aspartate Aminotransferase'].fillna(median_sgot)\n",
    "\n",
    "print(f\"Imputed missing SGOT with median: {median_sgot}\")\n",
    "print(f\"Remaining missing: {df['Sgot Aspartate Aminotransferase'].isnull().sum()}\")\n"
   ]
  },
  {
   "cell_type": "code",
   "execution_count": 28,
   "id": "c53adc76",
   "metadata": {},
   "outputs": [
    {
     "name": "stdout",
     "output_type": "stream",
     "text": [
      "Columns with missing values:\n",
      "\n",
      "Total Protiens                          422\n",
      "ALB Albumin                             455\n",
      "A/G Ratio Albumin and Globulin Ratio    517\n",
      "dtype: int64\n",
      "\n",
      " Columns with NO missing values:\n",
      "\n",
      "Age of the patient                 0\n",
      "Gender of the patient              0\n",
      "Total Bilirubin                    0\n",
      "Direct Bilirubin                   0\n",
      "Alkphos Alkaline Phosphotase       0\n",
      "Sgpt Alamine Aminotransferase      0\n",
      "Sgot Aspartate Aminotransferase    0\n",
      "Result                             0\n",
      "dtype: int64\n"
     ]
    }
   ],
   "source": [
    "# Step 1: Count missing values for all columns\n",
    "missing_summary = df.isnull().sum()\n",
    "\n",
    "# Step 2: Separate columns based on missing values\n",
    "columns_with_missing = missing_summary[missing_summary > 0]\n",
    "columns_without_missing = missing_summary[missing_summary == 0]\n",
    "\n",
    "print(\"Columns with missing values:\\n\")\n",
    "print(columns_with_missing)\n",
    "\n",
    "print(\"\\n Columns with NO missing values:\\n\")\n",
    "print(columns_without_missing)\n"
   ]
  },
  {
   "cell_type": "markdown",
   "id": "87892d96",
   "metadata": {},
   "source": [
    "### 2.11  We started cleaning the eighth column  of our dataset 'TOTAL PROTIENS'\n",
    "\n",
    "`Total Protiens` (a likely misspelling of \"Total Proteins\") is a gauge of the overall concentration of albumin and globulin in the blood. It's an indicator of nutritional status and liver function.\n",
    "\n",
    "**Steps Taken:**\n",
    "- Converted all entries to numeric using `pd.to_numeric()` to eliminate any data type issues\n",
    "- There were many missing values in the column\n",
    "- Replaced missing values with the **median** of the column\n",
    "\n",
    "**Why Median?**\n",
    "- Protein amounts can vary due to numerous reasons (hydration, inflammation, etc.)\n",
    "- Median imputation does not skew with outliers and maintains the central tendency\n",
    "\n",
    "This process enabled us to utilize the total protein feature in our machine learning models with reliability.\n"
   ]
  },
  {
   "cell_type": "code",
   "execution_count": 29,
   "id": "4d912aaa",
   "metadata": {},
   "outputs": [
    {
     "name": "stdout",
     "output_type": "stream",
     "text": [
      "Missing values in 'Total Protiens': 422\n"
     ]
    }
   ],
   "source": [
    "# Check how many are missing in Total Protiens\n",
    "missing_proteins = df['Total Protiens'].isnull().sum()\n",
    "\n",
    "print(f\"Missing values in 'Total Protiens': {missing_proteins}\")\n"
   ]
  },
  {
   "cell_type": "code",
   "execution_count": 30,
   "id": "cbae63be",
   "metadata": {},
   "outputs": [
    {
     "name": "stdout",
     "output_type": "stream",
     "text": [
      "Imputed missing Total Protiens with median: 6.6\n",
      "Remaining missing: 0\n"
     ]
    }
   ],
   "source": [
    "# Convert to numeric\n",
    "df['Total Protiens'] = pd.to_numeric(df['Total Protiens'], errors='coerce')\n",
    "\n",
    "# Calculate median\n",
    "median_proteins = df['Total Protiens'].median()\n",
    "\n",
    "# Impute missing values\n",
    "df['Total Protiens'] = df['Total Protiens'].fillna(median_proteins)\n",
    "\n",
    "print(f\"Imputed missing Total Protiens with median: {median_proteins}\")\n",
    "print(f\"Remaining missing: {df['Total Protiens'].isnull().sum()}\")\n"
   ]
  },
  {
   "cell_type": "markdown",
   "id": "3c7d904d",
   "metadata": {},
   "source": [
    "### 2.12  We started cleaning the ninth column  of our dataset 'ALBUMIN'\n",
    "\n",
    "`ALB Albumin` is the level of albumin in the blood — a protein that is released by the liver. Unusually low levels of albumin may indicate liver dysfunction or chronic disease and hence is an important input feature for predicting liver disease.\n",
    "\n",
    "**Steps Taken:**\n",
    "- Converted all values to numeric format to compensate for any non-standard entries\n",
    "- Identified and imputed missing values\n",
    "- Imputed missing values with the **median** of the column\n",
    "\n",
    "**Why Median?**\n",
    "- Albumin value can vary with hydration or infection\n",
    "- Median is a stable measure and won't be influenced by any outlier values\n",
    "\n",
    "Normalization of this feature enabled us to retain this clinically significant variable in the final model training."
   ]
  },
  {
   "cell_type": "code",
   "execution_count": 31,
   "id": "9bb05518",
   "metadata": {},
   "outputs": [
    {
     "name": "stdout",
     "output_type": "stream",
     "text": [
      "Missing values in 'ALB Albumin': 455\n"
     ]
    }
   ],
   "source": [
    "# Check how many values are missing in Albumin\n",
    "missing_albumin = df['ALB Albumin'].isnull().sum()\n",
    "\n",
    "print(f\"Missing values in 'ALB Albumin': {missing_albumin}\")\n"
   ]
  },
  {
   "cell_type": "code",
   "execution_count": 32,
   "id": "8083d2b0",
   "metadata": {},
   "outputs": [
    {
     "name": "stdout",
     "output_type": "stream",
     "text": [
      "Imputed missing ALB Albumin with median: 3.1\n",
      "Remaining missing: 0\n"
     ]
    }
   ],
   "source": [
    "# Convert to numeric\n",
    "df['ALB Albumin'] = pd.to_numeric(df['ALB Albumin'], errors='coerce')\n",
    "\n",
    "# Calculate median\n",
    "median_albumin = df['ALB Albumin'].median()\n",
    "\n",
    "# Fill missing values with median\n",
    "df['ALB Albumin'] = df['ALB Albumin'].fillna(median_albumin)\n",
    "\n",
    "print(f\"Imputed missing ALB Albumin with median: {median_albumin}\")\n",
    "print(f\"Remaining missing: {df['ALB Albumin'].isnull().sum()}\")\n"
   ]
  },
  {
   "cell_type": "markdown",
   "id": "ae0a4b1c",
   "metadata": {},
   "source": [
    "### 2.13  We started cleaning the tenth column  of our dataset 'A/G Ratio Albumin and Globulin Ratio'\n",
    "\n",
    "`A/G Ratio Albumin and Globulin Ratio` is the ratio of two important protein groups in the blood, albumin and globulin. The ratio is utilized to assess liver function and detect liver disease or immune system disorders.\n",
    "\n",
    "**Steps Taken:**\n",
    "- Converted entries to numeric format to clean out non-numeric or malformed values\n",
    "- Detected and processed missing data\n",
    "- Imputed missing values with the **median**\n",
    "\n",
    "**Why Median?**\n",
    "- Several physiological conditions can influence the A/G ratios and can include extreme instances\n",
    "- The median provides a strong central buffer without distortion from outliers\n",
    "\n",
    "Through sanitization of this characteristic, we left in a valuable indicator of liver health within the frame of data and presented it for model training.\n"
   ]
  },
  {
   "cell_type": "code",
   "execution_count": 33,
   "id": "524a510d",
   "metadata": {},
   "outputs": [
    {
     "name": "stdout",
     "output_type": "stream",
     "text": [
      " Missing values in 'A/G Ratio Albumin and Globulin Ratio': 517\n"
     ]
    }
   ],
   "source": [
    "# Check how many values are missing in A/G Ratio\n",
    "missing_ag_ratio = df['A/G Ratio Albumin and Globulin Ratio'].isnull().sum()\n",
    "\n",
    "print(f\" Missing values in 'A/G Ratio Albumin and Globulin Ratio': {missing_ag_ratio}\")\n"
   ]
  },
  {
   "cell_type": "code",
   "execution_count": 34,
   "id": "db79939d",
   "metadata": {},
   "outputs": [
    {
     "name": "stdout",
     "output_type": "stream",
     "text": [
      " Imputed missing A/G Ratio with median: 0.9\n",
      "Remaining missing: 0\n"
     ]
    }
   ],
   "source": [
    "# Convert to numeric\n",
    "df['A/G Ratio Albumin and Globulin Ratio'] = pd.to_numeric(df['A/G Ratio Albumin and Globulin Ratio'], errors='coerce')\n",
    "\n",
    "# Calculate median\n",
    "median_ag_ratio = df['A/G Ratio Albumin and Globulin Ratio'].median()\n",
    "\n",
    "# Fill missing values\n",
    "df['A/G Ratio Albumin and Globulin Ratio'] = df['A/G Ratio Albumin and Globulin Ratio'].fillna(median_ag_ratio)\n",
    "\n",
    "print(f\" Imputed missing A/G Ratio with median: {median_ag_ratio}\")\n",
    "print(f\"Remaining missing: {df['A/G Ratio Albumin and Globulin Ratio'].isnull().sum()}\")\n"
   ]
  },
  {
   "cell_type": "markdown",
   "id": "9b8fef78",
   "metadata": {},
   "source": [
    "### 2.14 Double checking for any missing values"
   ]
  },
  {
   "cell_type": "code",
   "execution_count": 35,
   "id": "9902d52b",
   "metadata": {},
   "outputs": [
    {
     "name": "stdout",
     "output_type": "stream",
     "text": [
      " Columns with missing values:\n",
      "\n",
      "Series([], dtype: int64)\n",
      "\n",
      " Columns with NO missing values:\n",
      "\n",
      "Age of the patient                      0\n",
      "Gender of the patient                   0\n",
      "Total Bilirubin                         0\n",
      "Direct Bilirubin                        0\n",
      "Alkphos Alkaline Phosphotase            0\n",
      "Sgpt Alamine Aminotransferase           0\n",
      "Sgot Aspartate Aminotransferase         0\n",
      "Total Protiens                          0\n",
      "ALB Albumin                             0\n",
      "A/G Ratio Albumin and Globulin Ratio    0\n",
      "Result                                  0\n",
      "dtype: int64\n"
     ]
    }
   ],
   "source": [
    "# Count missing values for all columns\n",
    "missing_summary = df.isnull().sum()\n",
    "\n",
    "# Separate columns based on missing values\n",
    "columns_with_missing = missing_summary[missing_summary > 0]\n",
    "columns_without_missing = missing_summary[missing_summary == 0]\n",
    "\n",
    "print(\" Columns with missing values:\\n\")\n",
    "print(columns_with_missing)\n",
    "\n",
    "print(\"\\n Columns with NO missing values:\\n\")\n",
    "print(columns_without_missing)\n"
   ]
  },
  {
   "cell_type": "markdown",
   "id": "c749b552",
   "metadata": {},
   "source": [
    "### 2.15 Cleaning of Duplicate rows"
   ]
  },
  {
   "cell_type": "code",
   "execution_count": 36,
   "id": "579c9223",
   "metadata": {},
   "outputs": [
    {
     "name": "stdout",
     "output_type": "stream",
     "text": [
      " Number of duplicate rows: 11250\n"
     ]
    }
   ],
   "source": [
    "# Check for duplicate rows\n",
    "duplicate_count = df.duplicated().sum()\n",
    "\n",
    "print(f\" Number of duplicate rows: {duplicate_count}\")\n"
   ]
  },
  {
   "cell_type": "code",
   "execution_count": 37,
   "id": "71bcb515",
   "metadata": {},
   "outputs": [
    {
     "name": "stdout",
     "output_type": "stream",
     "text": [
      " Duplicate rows removed.\n",
      "Remaining rows: 18539\n"
     ]
    }
   ],
   "source": [
    "# Drop duplicate rows\n",
    "df = df.drop_duplicates()\n",
    "\n",
    "print(\" Duplicate rows removed.\")\n",
    "print(f\"Remaining rows: {df.shape[0]}\")\n"
   ]
  },
  {
   "cell_type": "code",
   "execution_count": 38,
   "id": "79381dca",
   "metadata": {},
   "outputs": [
    {
     "name": "stdout",
     "output_type": "stream",
     "text": [
      " Columns with missing values:\n",
      "\n",
      "Series([], dtype: int64)\n",
      "\n",
      " Columns with NO missing values:\n",
      "\n",
      "Age of the patient                      0\n",
      "Gender of the patient                   0\n",
      "Total Bilirubin                         0\n",
      "Direct Bilirubin                        0\n",
      "Alkphos Alkaline Phosphotase            0\n",
      "Sgpt Alamine Aminotransferase           0\n",
      "Sgot Aspartate Aminotransferase         0\n",
      "Total Protiens                          0\n",
      "ALB Albumin                             0\n",
      "A/G Ratio Albumin and Globulin Ratio    0\n",
      "Result                                  0\n",
      "dtype: int64\n"
     ]
    }
   ],
   "source": [
    "\n",
    "# Count missing values for all columns\n",
    "missing_summary = df.isnull().sum()\n",
    "\n",
    "# Separate columns based on missing values\n",
    "columns_with_missing = missing_summary[missing_summary > 0]\n",
    "columns_without_missing = missing_summary[missing_summary == 0]\n",
    "\n",
    "print(\" Columns with missing values:\\n\")\n",
    "print(columns_with_missing)\n",
    "\n",
    "print(\"\\n Columns with NO missing values:\\n\")\n",
    "print(columns_without_missing)\n"
   ]
  },
  {
   "cell_type": "markdown",
   "id": "dad41517",
   "metadata": {},
   "source": [
    "### Part 3 Exploratory Data Analysis (EDA) and Visualizations\n",
    "\n",
    "We analyzed distributions of numeric and categorical features, detected outliers using boxplots, and visualized correlation among features using a heatmap.\n"
   ]
  },
  {
   "cell_type": "markdown",
   "id": "6b3cde24",
   "metadata": {},
   "source": [
    "### 3.1 Visualize distribution analysis of numeric features which will help to spot skewed or abnormal data."
   ]
  },
  {
   "cell_type": "code",
   "execution_count": 39,
   "id": "cba69718",
   "metadata": {},
   "outputs": [
    {
     "data": {
      "image/png": "[encoded data removed]",
      "text/plain": [
       "<Figure size 576x288 with 1 Axes>"
      ]
     },
     "metadata": {
      "needs_background": "light"
     },
     "output_type": "display_data"
    },
    {
     "data": {
      "image/png": "[encoded data removed]",
      "text/plain": [
       "<Figure size 576x288 with 1 Axes>"
      ]
     },
     "metadata": {
      "needs_background": "light"
     },
     "output_type": "display_data"
    },
    {
     "data": {
      "image/png": "[encoded data removed]",
      "text/plain": [
       "<Figure size 576x288 with 1 Axes>"
      ]
     },
     "metadata": {
      "needs_background": "light"
     },
     "output_type": "display_data"
    },
    {
     "data": {
      "image/png": "[encoded data removed]",
      "text/plain": [
       "<Figure size 576x288 with 1 Axes>"
      ]
     },
     "metadata": {
      "needs_background": "light"
     },
     "output_type": "display_data"
    },
    {
     "data": {
      "image/png": "[encoded data removed]",
      "text/plain": [
       "<Figure size 576x288 with 1 Axes>"
      ]
     },
     "metadata": {
      "needs_background": "light"
     },
     "output_type": "display_data"
    },
    {
     "data": {
      "image/png": "[encoded data removed]",
      "text/plain": [
       "<Figure size 576x288 with 1 Axes>"
      ]
     },
     "metadata": {
      "needs_background": "light"
     },
     "output_type": "display_data"
    },
    {
     "data": {
      "image/png": "[encoded data removed]",
      "text/plain": [
       "<Figure size 576x288 with 1 Axes>"
      ]
     },
     "metadata": {
      "needs_background": "light"
     },
     "output_type": "display_data"
    },
    {
     "data": {
      "image/png": "[encoded data removed]",
      "text/plain": [
       "<Figure size 576x288 with 1 Axes>"
      ]
     },
     "metadata": {
      "needs_background": "light"
     },
     "output_type": "display_data"
    },
    {
     "data": {
      "image/png": "[encoded data removed]",
      "text/plain": [
       "<Figure size 576x288 with 1 Axes>"
      ]
     },
     "metadata": {
      "needs_background": "light"
     },
     "output_type": "display_data"
    },
    {
     "data": {
      "image/png": "[encoded data removed]",
      "text/plain": [
       "<Figure size 576x288 with 1 Axes>"
      ]
     },
     "metadata": {
      "needs_background": "light"
     },
     "output_type": "display_data"
    }
   ],
   "source": [
    "import matplotlib.pyplot as plt\n",
    "import seaborn as sns\n",
    "\n",
    "# Select numeric columns only\n",
    "numeric_columns = df.select_dtypes(include=['float64', 'int64']).columns\n",
    "\n",
    "# Plot histogram with KDE for each numeric column\n",
    "for col in numeric_columns:\n",
    "    plt.figure(figsize=(8, 4))\n",
    "    sns.histplot(df[col], kde=True, bins=30, color='skyblue', edgecolor='black')\n",
    "    plt.title(f'Distribution of {col}')\n",
    "    plt.xlabel(col)\n",
    "    plt.ylabel('Frequency')\n",
    "    plt.tight_layout()\n",
    "    plt.show()\n"
   ]
  },
  {
   "cell_type": "markdown",
   "id": "1d6b0944",
   "metadata": {},
   "source": [
    "### Explanation of the graphs :\n",
    "\n",
    "***Distribution of Age of the Patient***\n",
    "The age distribution is slightly right-skewed, with most patients falling between 30 and 60 years. This indicates liver conditions are more prevalent in middle-aged individuals, which aligns with known medical trends.\n",
    "\n",
    "***Distribution of Total Bilirubin***\n",
    "The Total Bilirubin levels are highly right-skewed, with the majority of values concentrated near zero. A few extreme values suggest the presence of outliers, potentially indicating patients with severe liver dysfunction.\n",
    "\n",
    "***Distribution of Direct Bilirubin***\n",
    "The Direct Bilirubin values are sharply right-skewed, with the majority of patients showing low levels. This is expected in clinical data, where elevated levels are often limited to patients with advanced liver dysfunction.\n",
    "\n",
    "***Distribution of Alkaline Phosphatase (Alkphos)***\n",
    "This enzyme shows a positively skewed distribution, indicating that most patients have Alkphos levels in the normal to mildly elevated range, while a few show abnormally high levels — a key flag for liver or bile duct issues.\n",
    "\n",
    "***Distribution of SGPT (Alamine Aminotransferase)***\n",
    "SGPT levels are heavily skewed to the right, suggesting that while most patients have low enzyme activity, a minority experience sharp elevations — commonly associated with liver inflammation or injury.\n",
    "\n",
    "***Distribution of SGOT (Aspartate Aminotransferase)***\n",
    "SGOT levels are heavily right-skewed with several extreme outliers, which could correspond to acute liver injury. Most values remain concentrated in the lower range, as expected in a typical patient sample.\n",
    "\n",
    "***Distribution of Total Proteins***\n",
    "The distribution of Total Proteins resembles a normal curve, centered around 6–7 g/dL. This suggests consistent protein levels in the majority of patients, aiding in stability during model training.\n",
    "\n",
    "***Distribution of Albumin (ALB)***\n",
    "Albumin levels show a moderately right-skewed pattern with a peak around 3 g/dL. Slight deviation from normal distribution might indicate hypoalbuminemia in a subset of patients.\n",
    "\n",
    "***Distribution of A/G Ratio (Albumin to Globulin)***\n",
    "The A/G Ratio shows a right-skewed distribution, with most values centered around 1.0. This suggests a relatively healthy balance in many patients, though lower ratios may indicate liver dysfunction or chronic inflammation.\n",
    "\n",
    "***Distribution of Result (Target Variable)***\n",
    "The target variable is highly imbalanced, with a majority labeled as “1” (liver patient). This confirms the need for resampling techniques like SMOTE to avoid biased model learning.\n",
    "\n",
    "\n",
    "\n",
    "\n"
   ]
  },
  {
   "cell_type": "markdown",
   "id": "24c61e9c",
   "metadata": {},
   "source": [
    " ### 3.2 Distribution analysis of categorical features\n"
   ]
  },
  {
   "cell_type": "code",
   "execution_count": 40,
   "id": "386baeba",
   "metadata": {},
   "outputs": [
    {
     "data": {
      "image/png": "[encoded data removed]",
      "text/plain": [
       "<Figure size 432x288 with 1 Axes>"
      ]
     },
     "metadata": {
      "needs_background": "light"
     },
     "output_type": "display_data"
    }
   ],
   "source": [
    "import seaborn as sns\n",
    "import matplotlib.pyplot as plt\n",
    "\n",
    "# Identify categorical columns (object type)\n",
    "categorical_columns = df.select_dtypes(include=['object']).columns\n",
    "\n",
    "# Create count plots for each categorical column\n",
    "for col in categorical_columns:\n",
    "    plt.figure(figsize=(6, 4))\n",
    "    sns.countplot(data=df, x=col, palette='pastel')\n",
    "    plt.title(f'Distribution of {col}')\n",
    "    plt.xlabel(col)\n",
    "    plt.ylabel('Count')\n",
    "    plt.xticks(rotation=45)\n",
    "    plt.tight_layout()\n",
    "    plt.show()\n"
   ]
  },
  {
   "cell_type": "markdown",
   "id": "17e0d602",
   "metadata": {},
   "source": [
    "The above bar chart shows a clear gender imbalance, with significantly more male patients than female. This could reflect either sampling bias or real-world prevalence trends of liver disease skewing toward male patients — a factor worth considering during analysis and modeling"
   ]
  },
  {
   "cell_type": "markdown",
   "id": "1e1d5bdd",
   "metadata": {},
   "source": [
    "### 3.3 Boxplot for each numeric value"
   ]
  },
  {
   "cell_type": "code",
   "execution_count": 41,
   "id": "64f2a8c0-839c-4517-b650-7f82f66c008b",
   "metadata": {},
   "outputs": [
    {
     "data": {
      "image/png": "[encoded data removed]",
      "text/plain": [
       "<Figure size 576x288 with 1 Axes>"
      ]
     },
     "metadata": {
      "needs_background": "light"
     },
     "output_type": "display_data"
    },
    {
     "data": {
      "image/png": "[encoded data removed]",
      "text/plain": [
       "<Figure size 576x288 with 1 Axes>"
      ]
     },
     "metadata": {
      "needs_background": "light"
     },
     "output_type": "display_data"
    },
    {
     "data": {
      "image/png": "[encoded data removed]",
      "text/plain": [
       "<Figure size 576x288 with 1 Axes>"
      ]
     },
     "metadata": {
      "needs_background": "light"
     },
     "output_type": "display_data"
    },
    {
     "data": {
      "image/png": "[encoded data removed]",
      "text/plain": [
       "<Figure size 576x288 with 1 Axes>"
      ]
     },
     "metadata": {
      "needs_background": "light"
     },
     "output_type": "display_data"
    },
    {
     "data": {
      "image/png": "[encoded data removed]",
      "text/plain": [
       "<Figure size 576x288 with 1 Axes>"
      ]
     },
     "metadata": {
      "needs_background": "light"
     },
     "output_type": "display_data"
    },
    {
     "data": {
      "image/png": "[encoded data removed]",
      "text/plain": [
       "<Figure size 576x288 with 1 Axes>"
      ]
     },
     "metadata": {
      "needs_background": "light"
     },
     "output_type": "display_data"
    },
    {
     "data": {
      "image/png": "[encoded data removed]",
      "text/plain": [
       "<Figure size 576x288 with 1 Axes>"
      ]
     },
     "metadata": {
      "needs_background": "light"
     },
     "output_type": "display_data"
    },
    {
     "data": {
      "image/png": "[encoded data removed]",
      "text/plain": [
       "<Figure size 576x288 with 1 Axes>"
      ]
     },
     "metadata": {
      "needs_background": "light"
     },
     "output_type": "display_data"
    },
    {
     "data": {
      "image/png": "[encoded data removed]",
      "text/plain": [
       "<Figure size 576x288 with 1 Axes>"
      ]
     },
     "metadata": {
      "needs_background": "light"
     },
     "output_type": "display_data"
    },
    {
     "data": {
      "image/png": "[encoded data removed]",
      "text/plain": [
       "<Figure size 576x288 with 1 Axes>"
      ]
     },
     "metadata": {
      "needs_background": "light"
     },
     "output_type": "display_data"
    }
   ],
   "source": [
    "import matplotlib.pyplot as plt\n",
    "import seaborn as sns\n",
    "\n",
    "# Select numeric columns\n",
    "numeric_columns = df.select_dtypes(include=['float64', 'int64']).columns\n",
    "\n",
    "# Plot a boxplot for each numeric column\n",
    "for col in numeric_columns:\n",
    "    plt.figure(figsize=(8, 4))\n",
    "    sns.boxplot(x=df[col], color='lightblue')\n",
    "    plt.title(f'Boxplot of {col}')\n",
    "    plt.xlabel(col)\n",
    "    plt.tight_layout()\n",
    "    plt.show()\n"
   ]
  },
  {
   "cell_type": "markdown",
   "id": "0f2ac4d0",
   "metadata": {},
   "source": [
    "### Outlier Detection using Boxplots\n",
    "***Age of the Patient***\n",
    "The age distribution is mostly symmetrical and ranges between 10 to 90 years, with a few outliers above 90. Most patients are concentrated between 30 and 60.\n",
    "\n",
    "***Total Bilirubin***\n",
    "This feature shows a heavy right skew with numerous outliers. Most values are clustered below 5, but several extreme values stretch up to 70+, suggesting possible abnormal liver conditions.\n",
    "\n",
    "***Direct Bilirubin***\n",
    "Like total bilirubin, this too is right-skewed with many outliers. While the majority of patients fall under 2.5 units, outliers go beyond 15, indicating strong anomalies in liver function.\n",
    "\n",
    "***Alkphos Alkaline Phosphotase***\n",
    "The data is highly right-skewed with a significant number of outliers above the 300–400 range. This suggests abnormal enzyme levels in some patients, often associated with liver or bone disease.\n",
    "\n",
    "***SGPT (Alamine Aminotransferase)***\n",
    "A large number of values fall within a narrow lower range, while many high-value outliers extend beyond 1000 units, pointing to possible liver inflammation or injury in those patients.\n",
    "\n",
    "***SGOT (Aspartate Aminotransferase)***\n",
    "This feature also exhibits strong skewness and heavy outliers — some values exceed 4000, which are extreme and potentially tied to severe liver or muscle damage.\n",
    "\n",
    "***Total Proteins***\n",
    "This distribution is fairly symmetric and well-centered, but a few mild outliers exist at both the lower and upper ends. Most patients have protein levels in the 6–8 g/dL range.\n",
    "\n",
    "***ALB (Albumin)***\n",
    "Albumin values are mostly within a healthy spread, but slight right skewness is observed. The outliers on the lower end could indicate potential liver malfunction.\n",
    "\n",
    "***A/G Ratio (Albumin/Globulin)***\n",
    "A slightly right-skewed distribution with several high-end outliers. These may represent rare but significant deviations in protein ratios often linked to liver or kidney conditions.\n",
    "\n",
    "***Boxplot of Result***\n",
    "This boxplot shows the distribution of the target variable (Result), which classifies patients as either having liver disease (1) or not (2). Since this is a categorical variable with only two values, the boxplot appears fully stretched between 1 and 2, offering no insight into outliers or variability. It simply confirms that both classes are present in the dataset."
   ]
  },
  {
   "cell_type": "markdown",
   "id": "688e50de",
   "metadata": {},
   "source": [
    "### 3.4 Correlation heatmap of numeric features\n"
   ]
  },
  {
   "cell_type": "code",
   "execution_count": 42,
   "id": "c84dfb37",
   "metadata": {},
   "outputs": [
    {
     "data": {
      "image/png": "[encoded data removed]",
      "text/plain": [
       "<Figure size 864x576 with 2 Axes>"
      ]
     },
     "metadata": {
      "needs_background": "light"
     },
     "output_type": "display_data"
    }
   ],
   "source": [
    "import seaborn as sns\n",
    "import matplotlib.pyplot as plt\n",
    "\n",
    "# Select only numeric features\n",
    "numeric_df = df.select_dtypes(include=['float64', 'int64'])\n",
    "\n",
    "# Compute correlation matrix\n",
    "correlation_matrix = numeric_df.corr()\n",
    "\n",
    "# Plot heatmap\n",
    "plt.figure(figsize=(12, 8))\n",
    "sns.heatmap(correlation_matrix, annot=True, fmt=\".2f\", cmap='coolwarm', square=True, linewidths=0.5)\n",
    "plt.title('Correlation Heatmap of Numeric Features')\n",
    "plt.tight_layout()\n",
    "plt.show()\n"
   ]
  },
  {
   "cell_type": "markdown",
   "id": "cf22f6cb",
   "metadata": {},
   "source": [
    "### Correlation Heatmap Insights\n",
    "The heatmap shows how strongly numeric features are related.\n",
    "\n",
    "Total & Direct Bilirubin are highly correlated (0.89).\n",
    "\n",
    "SGPT & SGOT also show strong correlation (0.76).\n",
    "\n",
    "Albumin correlates well with Total Proteins (0.77).\n",
    "\n",
    "The Result has weak correlations with features — hinting the need for combining features in models."
   ]
  },
  {
   "cell_type": "code",
   "execution_count": 43,
   "id": "d56addb9-1b6f-4d2b-b8d4-a9bc8aef86f8",
   "metadata": {},
   "outputs": [
    {
     "data": {
      "text/html": [
       "<div>\n",
       "<style scoped>\n",
       "    .dataframe tbody tr th:only-of-type {\n",
       "        vertical-align: middle;\n",
       "    }\n",
       "\n",
       "    .dataframe tbody tr th {\n",
       "        vertical-align: top;\n",
       "    }\n",
       "\n",
       "    .dataframe thead th {\n",
       "        text-align: right;\n",
       "    }\n",
       "</style>\n",
       "<table border=\"1\" class=\"dataframe\">\n",
       "  <thead>\n",
       "    <tr style=\"text-align: right;\">\n",
       "      <th></th>\n",
       "      <th>Age of the patient</th>\n",
       "      <th>Gender of the patient</th>\n",
       "      <th>Total Bilirubin</th>\n",
       "      <th>Direct Bilirubin</th>\n",
       "      <th>Alkphos Alkaline Phosphotase</th>\n",
       "      <th>Sgpt Alamine Aminotransferase</th>\n",
       "      <th>Sgot Aspartate Aminotransferase</th>\n",
       "      <th>Total Protiens</th>\n",
       "      <th>ALB Albumin</th>\n",
       "      <th>A/G Ratio Albumin and Globulin Ratio</th>\n",
       "      <th>Result</th>\n",
       "    </tr>\n",
       "  </thead>\n",
       "  <tbody>\n",
       "    <tr>\n",
       "      <th>0</th>\n",
       "      <td>65.0</td>\n",
       "      <td>0</td>\n",
       "      <td>0.7</td>\n",
       "      <td>0.1</td>\n",
       "      <td>187.0</td>\n",
       "      <td>16.0</td>\n",
       "      <td>18.0</td>\n",
       "      <td>6.8</td>\n",
       "      <td>3.3</td>\n",
       "      <td>0.90</td>\n",
       "      <td>1</td>\n",
       "    </tr>\n",
       "    <tr>\n",
       "      <th>1</th>\n",
       "      <td>62.0</td>\n",
       "      <td>1</td>\n",
       "      <td>10.9</td>\n",
       "      <td>5.5</td>\n",
       "      <td>699.0</td>\n",
       "      <td>64.0</td>\n",
       "      <td>100.0</td>\n",
       "      <td>7.5</td>\n",
       "      <td>3.2</td>\n",
       "      <td>0.74</td>\n",
       "      <td>1</td>\n",
       "    </tr>\n",
       "    <tr>\n",
       "      <th>2</th>\n",
       "      <td>62.0</td>\n",
       "      <td>1</td>\n",
       "      <td>7.3</td>\n",
       "      <td>4.1</td>\n",
       "      <td>490.0</td>\n",
       "      <td>60.0</td>\n",
       "      <td>68.0</td>\n",
       "      <td>7.0</td>\n",
       "      <td>3.3</td>\n",
       "      <td>0.89</td>\n",
       "      <td>1</td>\n",
       "    </tr>\n",
       "    <tr>\n",
       "      <th>3</th>\n",
       "      <td>58.0</td>\n",
       "      <td>1</td>\n",
       "      <td>1.0</td>\n",
       "      <td>0.4</td>\n",
       "      <td>182.0</td>\n",
       "      <td>14.0</td>\n",
       "      <td>20.0</td>\n",
       "      <td>6.8</td>\n",
       "      <td>3.4</td>\n",
       "      <td>1.00</td>\n",
       "      <td>1</td>\n",
       "    </tr>\n",
       "    <tr>\n",
       "      <th>4</th>\n",
       "      <td>72.0</td>\n",
       "      <td>1</td>\n",
       "      <td>3.9</td>\n",
       "      <td>2.0</td>\n",
       "      <td>195.0</td>\n",
       "      <td>27.0</td>\n",
       "      <td>59.0</td>\n",
       "      <td>7.3</td>\n",
       "      <td>2.4</td>\n",
       "      <td>0.40</td>\n",
       "      <td>1</td>\n",
       "    </tr>\n",
       "    <tr>\n",
       "      <th>...</th>\n",
       "      <td>...</td>\n",
       "      <td>...</td>\n",
       "      <td>...</td>\n",
       "      <td>...</td>\n",
       "      <td>...</td>\n",
       "      <td>...</td>\n",
       "      <td>...</td>\n",
       "      <td>...</td>\n",
       "      <td>...</td>\n",
       "      <td>...</td>\n",
       "      <td>...</td>\n",
       "    </tr>\n",
       "    <tr>\n",
       "      <th>29974</th>\n",
       "      <td>58.0</td>\n",
       "      <td>1</td>\n",
       "      <td>2.9</td>\n",
       "      <td>1.3</td>\n",
       "      <td>482.0</td>\n",
       "      <td>22.0</td>\n",
       "      <td>34.0</td>\n",
       "      <td>7.0</td>\n",
       "      <td>2.4</td>\n",
       "      <td>0.50</td>\n",
       "      <td>1</td>\n",
       "    </tr>\n",
       "    <tr>\n",
       "      <th>29976</th>\n",
       "      <td>28.0</td>\n",
       "      <td>1</td>\n",
       "      <td>1.9</td>\n",
       "      <td>1.0</td>\n",
       "      <td>231.0</td>\n",
       "      <td>16.0</td>\n",
       "      <td>55.0</td>\n",
       "      <td>4.3</td>\n",
       "      <td>1.6</td>\n",
       "      <td>0.60</td>\n",
       "      <td>1</td>\n",
       "    </tr>\n",
       "    <tr>\n",
       "      <th>30686</th>\n",
       "      <td>50.0</td>\n",
       "      <td>1</td>\n",
       "      <td>2.2</td>\n",
       "      <td>1.0</td>\n",
       "      <td>610.0</td>\n",
       "      <td>17.0</td>\n",
       "      <td>28.0</td>\n",
       "      <td>7.3</td>\n",
       "      <td>2.6</td>\n",
       "      <td>0.55</td>\n",
       "      <td>1</td>\n",
       "    </tr>\n",
       "    <tr>\n",
       "      <th>30688</th>\n",
       "      <td>54.0</td>\n",
       "      <td>1</td>\n",
       "      <td>6.8</td>\n",
       "      <td>3.0</td>\n",
       "      <td>542.0</td>\n",
       "      <td>116.0</td>\n",
       "      <td>66.0</td>\n",
       "      <td>6.4</td>\n",
       "      <td>3.1</td>\n",
       "      <td>0.90</td>\n",
       "      <td>1</td>\n",
       "    </tr>\n",
       "    <tr>\n",
       "      <th>30689</th>\n",
       "      <td>48.0</td>\n",
       "      <td>0</td>\n",
       "      <td>1.9</td>\n",
       "      <td>1.0</td>\n",
       "      <td>231.0</td>\n",
       "      <td>16.0</td>\n",
       "      <td>55.0</td>\n",
       "      <td>4.3</td>\n",
       "      <td>1.6</td>\n",
       "      <td>0.60</td>\n",
       "      <td>1</td>\n",
       "    </tr>\n",
       "  </tbody>\n",
       "</table>\n",
       "<p>18539 rows × 11 columns</p>\n",
       "</div>"
      ],
      "text/plain": [
       "       Age of the patient  Gender of the patient  Total Bilirubin  \\\n",
       "0                    65.0                      0              0.7   \n",
       "1                    62.0                      1             10.9   \n",
       "2                    62.0                      1              7.3   \n",
       "3                    58.0                      1              1.0   \n",
       "4                    72.0                      1              3.9   \n",
       "...                   ...                    ...              ...   \n",
       "29974                58.0                      1              2.9   \n",
       "29976                28.0                      1              1.9   \n",
       "30686                50.0                      1              2.2   \n",
       "30688                54.0                      1              6.8   \n",
       "30689                48.0                      0              1.9   \n",
       "\n",
       "       Direct Bilirubin  Alkphos Alkaline Phosphotase  \\\n",
       "0                   0.1                         187.0   \n",
       "1                   5.5                         699.0   \n",
       "2                   4.1                         490.0   \n",
       "3                   0.4                         182.0   \n",
       "4                   2.0                         195.0   \n",
       "...                 ...                           ...   \n",
       "29974               1.3                         482.0   \n",
       "29976               1.0                         231.0   \n",
       "30686               1.0                         610.0   \n",
       "30688               3.0                         542.0   \n",
       "30689               1.0                         231.0   \n",
       "\n",
       "       Sgpt Alamine Aminotransferase  Sgot Aspartate Aminotransferase  \\\n",
       "0                               16.0                             18.0   \n",
       "1                               64.0                            100.0   \n",
       "2                               60.0                             68.0   \n",
       "3                               14.0                             20.0   \n",
       "4                               27.0                             59.0   \n",
       "...                              ...                              ...   \n",
       "29974                           22.0                             34.0   \n",
       "29976                           16.0                             55.0   \n",
       "30686                           17.0                             28.0   \n",
       "30688                          116.0                             66.0   \n",
       "30689                           16.0                             55.0   \n",
       "\n",
       "       Total Protiens  ALB Albumin  A/G Ratio Albumin and Globulin Ratio  \\\n",
       "0                 6.8          3.3                                  0.90   \n",
       "1                 7.5          3.2                                  0.74   \n",
       "2                 7.0          3.3                                  0.89   \n",
       "3                 6.8          3.4                                  1.00   \n",
       "4                 7.3          2.4                                  0.40   \n",
       "...               ...          ...                                   ...   \n",
       "29974             7.0          2.4                                  0.50   \n",
       "29976             4.3          1.6                                  0.60   \n",
       "30686             7.3          2.6                                  0.55   \n",
       "30688             6.4          3.1                                  0.90   \n",
       "30689             4.3          1.6                                  0.60   \n",
       "\n",
       "       Result  \n",
       "0           1  \n",
       "1           1  \n",
       "2           1  \n",
       "3           1  \n",
       "4           1  \n",
       "...       ...  \n",
       "29974       1  \n",
       "29976       1  \n",
       "30686       1  \n",
       "30688       1  \n",
       "30689       1  \n",
       "\n",
       "[18539 rows x 11 columns]"
      ]
     },
     "execution_count": 43,
     "metadata": {},
     "output_type": "execute_result"
    }
   ],
   "source": [
    "\n",
    "df['Gender of the patient'] = df['Gender of the patient'].str.strip().str.capitalize()\n",
    "\n",
    "df['Gender of the patient'] = df['Gender of the patient'].map({'Male': 1, 'Female': 0})\n",
    "df"
   ]
  },
  {
   "cell_type": "code",
   "execution_count": 44,
   "id": "2ba713c2-81cf-48ce-9251-4fc73fc6c6e8",
   "metadata": {},
   "outputs": [],
   "source": [
    "df['Result'] = df['Result'].replace(2, 0) \n",
    "# Separate input features and target\n",
    "X = df.drop(columns=[\"Result\"])\n",
    "y = df[\"Result\"]"
   ]
  },
  {
   "cell_type": "code",
   "execution_count": 45,
   "id": "ce376ea3-2461-4a66-9ed7-cdb6f42aadf3",
   "metadata": {},
   "outputs": [
    {
     "data": {
      "text/plain": [
       "0     1\n",
       "1     1\n",
       "2     1\n",
       "3     1\n",
       "4     1\n",
       "5     1\n",
       "6     1\n",
       "7     1\n",
       "8     0\n",
       "9     1\n",
       "10    1\n",
       "11    1\n",
       "12    0\n",
       "13    1\n",
       "14    1\n",
       "15    0\n",
       "16    1\n",
       "17    0\n",
       "18    1\n",
       "20    1\n",
       "Name: Result, dtype: int64"
      ]
     },
     "metadata": {},
     "output_type": "display_data"
    }
   ],
   "source": [
    "display(df[\"Result\"].head(20))"
   ]
  },
  {
   "cell_type": "code",
   "execution_count": 46,
   "id": "6058314c-ef13-45fb-bf2b-3e14b0fbc892",
   "metadata": {},
   "outputs": [
    {
     "name": "stdout",
     "output_type": "stream",
     "text": [
      " Features shape: (18539, 10)\n",
      " Target shape: (18539,)\n",
      " Feature columns:\n",
      "['Age of the patient', 'Gender of the patient', 'Total Bilirubin', 'Direct Bilirubin', 'Alkphos Alkaline Phosphotase', 'Sgpt Alamine Aminotransferase', 'Sgot Aspartate Aminotransferase', 'Total Protiens', 'ALB Albumin', 'A/G Ratio Albumin and Globulin Ratio']\n"
     ]
    }
   ],
   "source": [
    "print(\" Features shape:\", X.shape)\n",
    "print(\" Target shape:\", y.shape)\n",
    "print(\" Feature columns:\")\n",
    "print(X.columns.tolist())"
   ]
  },
  {
   "cell_type": "code",
   "execution_count": 47,
   "id": "debcc7fc-55d5-4420-9841-3317e4372ba1",
   "metadata": {},
   "outputs": [
    {
     "data": {
      "text/plain": [
       "<AxesSubplot:>"
      ]
     },
     "execution_count": 47,
     "metadata": {},
     "output_type": "execute_result"
    },
    {
     "data": {
      "image/png": "[encoded data removed]",
      "text/plain": [
       "<Figure size 720x432 with 2 Axes>"
      ]
     },
     "metadata": {
      "needs_background": "light"
     },
     "output_type": "display_data"
    }
   ],
   "source": [
    "plt.figure(figsize=(10, 6))\n",
    "sns.heatmap(X.corr(), annot=True)\n"
   ]
  },
  {
   "cell_type": "markdown",
   "id": "937a7179",
   "metadata": {},
   "source": [
    "The above heatmap displays the pairwise correlations among all numeric features, now including encoded gender columns (Gender_Female, Gender_Male).\n",
    "\n",
    "Strong correlations persist between Total Bilirubin & Direct Bilirubin (0.89), and SGPT & SGOT (0.76).\n",
    "\n",
    "Albumin and Total Proteins (0.77) are still highly aligned.\n",
    "\n",
    "Gender columns show weak correlation with the target Result, indicating minimal direct impact but still useful for fairness-aware modeling.\n",
    "\n",
    "No single feature is highly correlated with the target Result, so multivariate modeling remains essential.\n",
    "\n"
   ]
  },
  {
   "cell_type": "code",
   "execution_count": 48,
   "id": "b5caa793-1851-4212-a6c0-8a465e0066d5",
   "metadata": {},
   "outputs": [
    {
     "data": {
      "image/png": "[encoded data removed]",
      "text/plain": [
       "<Figure size 432x288 with 1 Axes>"
      ]
     },
     "metadata": {
      "needs_background": "light"
     },
     "output_type": "display_data"
    },
    {
     "name": "stdout",
     "output_type": "stream",
     "text": [
      " Class Distribution (%):\n",
      "1    71.44\n",
      "0    28.56\n",
      "Name: Result, dtype: float64\n"
     ]
    }
   ],
   "source": [
    "import seaborn as sns\n",
    "import matplotlib.pyplot as plt\n",
    "\n",
    "# Count plot for the 'Result' column\n",
    "plt.figure(figsize=(6, 4))\n",
    "sns.countplot(data=df, x='Result', palette='Set2')\n",
    "plt.title('Class Distribution in Target (Result)')\n",
    "plt.xlabel('Result (0 = Non-Liver Patient, 1 = Liver Patient)')\n",
    "plt.ylabel('Count')\n",
    "plt.tight_layout()\n",
    "plt.show()\n",
    "\n",
    "# Print percentage distribution\n",
    "class_counts = df['Result'].value_counts(normalize=True) * 100\n",
    "print(\" Class Distribution (%):\")\n",
    "print(class_counts.round(2))\n"
   ]
  },
  {
   "cell_type": "markdown",
   "id": "189dd84c",
   "metadata": {},
   "source": [
    "### Target Variable Distribution — Result\n",
    "The above bar plot illustrates the imbalance in the target variable, where:\n",
    "\n",
    "1 indicates Liver Patient\n",
    "\n",
    "0 indicates Non-Liver Patient\n",
    "\n",
    "The dataset contains more liver patient records than non-liver ones, making it imbalanced:\n",
    "\n",
    "Liver Patients (1): ~70%\n",
    "\n",
    "Non-Liver Patients (2): ~30%\n",
    "\n",
    "This imbalance justifies the use of SMOTE in later steps to ensure fair model training and avoid biased predictions."
   ]
  },
  {
   "cell_type": "markdown",
   "id": "5fcda14f",
   "metadata": {},
   "source": [
    "### 3.5 Handling Class Imbalance with SMOTE\n",
    "\n",
    "Our initial dataset was highly imbalanced, with more instances of liver disease (Result = 1) than non-liver (Result = 0). Learning a machine learning model from such imbalanced data can lead to biased predictions that favor the majority class.\n",
    "\n",
    "To avoid this, we used **SMOTE (Synthetic Minority Over-sampling Technique)**.\n",
    "\n",
    "#### What is SMOTE?\n",
    "SMOTE is an advanced oversampling technique that generates **synthetic examples** for the minority class by interpolating in between existing minority class samples and their nearest neighbors.\n",
    "\n",
    "#### Why SMOTE?\n",
    "- Prevents overfitting compared to random oversampling\n",
    "- Facilitates improved decision boundary learning by classifiers\n",
    "- Especially useful in medical domains where false negatives are costly\n",
    "\n",
    "#### What We Did:\n",
    "- Applied SMOTE **only to the training set** after data splitting\n",
    "- Brought class balance to 50:50\n",
    "- Improved model fairness and recall, especially in detecting non-liver patients\n",
    "\n",
    "This move was crucial in enabling our models to get trained on balanced data without losing significant real-world samples from the dominant class."
   ]
  },
  {
   "cell_type": "code",
   "execution_count": 49,
   "id": "428ef48a-2dee-4624-aa05-fd2a6250a13d",
   "metadata": {},
   "outputs": [
    {
     "name": "stdout",
     "output_type": "stream",
     "text": [
      "Requirement already satisfied: imbalanced-learn in c:\\users\\pp139\\anaconda3\\lib\\site-packages (0.12.4)Note: you may need to restart the kernel to use updated packages.\n",
      "\n",
      "Requirement already satisfied: numpy>=1.17.3 in c:\\users\\pp139\\anaconda3\\lib\\site-packages (from imbalanced-learn) (1.20.1)\n",
      "Requirement already satisfied: scipy>=1.5.0 in c:\\users\\pp139\\anaconda3\\lib\\site-packages (from imbalanced-learn) (1.6.2)\n",
      "Requirement already satisfied: scikit-learn>=1.0.2 in c:\\users\\pp139\\anaconda3\\lib\\site-packages (from imbalanced-learn) (1.3.2)\n",
      "Requirement already satisfied: joblib>=1.1.1 in c:\\users\\pp139\\anaconda3\\lib\\site-packages (from imbalanced-learn) (1.4.2)\n",
      "Requirement already satisfied: threadpoolctl>=2.0.0 in c:\\users\\pp139\\anaconda3\\lib\\site-packages (from imbalanced-learn) (2.1.0)\n"
     ]
    }
   ],
   "source": [
    "%pip install imbalanced-learn\n",
    "from sklearn.model_selection import train_test_split\n",
    "from sklearn.preprocessing import StandardScaler\n",
    "from imblearn.over_sampling import SMOTE"
   ]
  },
  {
   "cell_type": "markdown",
   "id": "3b62bcbb",
   "metadata": {},
   "source": [
    "### Part 4 Model Building and Improvements\n",
    "\n",
    "We built multiple classification models to predict liver disease, starting with baseline algorithms like Logistic Regression and Naive Bayes, and progressing to more powerful ones like Random Forest and XGBoost.\n",
    "\n",
    "To improve performance:\n",
    "- We addressed **class imbalance** using SMOTE to avoid biased predictions\n",
    "- Carefully **cleaned and imputed missing values** to ensure consistent input\n",
    "- Applied **feature encoding** (dummies) for categorical data (Gender)\n",
    "- Compared models using medical-relevant metrics like **recall** and **F1-score**\n",
    "\n",
    "These improvements significantly boosted the model's ability to detect liver disease, reducing false negatives and increasing reliability in a clinical context."
   ]
  },
  {
   "cell_type": "code",
   "execution_count": 50,
   "id": "8266e67f-0aa8-4d39-9a84-f1ca09ebbc30",
   "metadata": {},
   "outputs": [
    {
     "data": {
      "text/html": [
       "<div>\n",
       "<style scoped>\n",
       "    .dataframe tbody tr th:only-of-type {\n",
       "        vertical-align: middle;\n",
       "    }\n",
       "\n",
       "    .dataframe tbody tr th {\n",
       "        vertical-align: top;\n",
       "    }\n",
       "\n",
       "    .dataframe thead th {\n",
       "        text-align: right;\n",
       "    }\n",
       "</style>\n",
       "<table border=\"1\" class=\"dataframe\">\n",
       "  <thead>\n",
       "    <tr style=\"text-align: right;\">\n",
       "      <th></th>\n",
       "      <th>Age of the patient</th>\n",
       "      <th>Gender of the patient</th>\n",
       "      <th>Total Bilirubin</th>\n",
       "      <th>Direct Bilirubin</th>\n",
       "      <th>Alkphos Alkaline Phosphotase</th>\n",
       "      <th>Sgpt Alamine Aminotransferase</th>\n",
       "      <th>Sgot Aspartate Aminotransferase</th>\n",
       "      <th>Total Protiens</th>\n",
       "      <th>ALB Albumin</th>\n",
       "      <th>A/G Ratio Albumin and Globulin Ratio</th>\n",
       "    </tr>\n",
       "  </thead>\n",
       "  <tbody>\n",
       "    <tr>\n",
       "      <th>0</th>\n",
       "      <td>-1.145393</td>\n",
       "      <td>0.652731</td>\n",
       "      <td>-0.373102</td>\n",
       "      <td>-0.418646</td>\n",
       "      <td>-0.608124</td>\n",
       "      <td>-0.291323</td>\n",
       "      <td>-0.336322</td>\n",
       "      <td>-0.080962</td>\n",
       "      <td>0.468717</td>\n",
       "      <td>0.802852</td>\n",
       "    </tr>\n",
       "    <tr>\n",
       "      <th>1</th>\n",
       "      <td>-0.355929</td>\n",
       "      <td>0.652731</td>\n",
       "      <td>-0.258966</td>\n",
       "      <td>-0.172493</td>\n",
       "      <td>-0.450126</td>\n",
       "      <td>-0.342907</td>\n",
       "      <td>-0.284662</td>\n",
       "      <td>0.661899</td>\n",
       "      <td>0.596118</td>\n",
       "      <td>0.176981</td>\n",
       "    </tr>\n",
       "    <tr>\n",
       "      <th>2</th>\n",
       "      <td>-1.084665</td>\n",
       "      <td>0.652731</td>\n",
       "      <td>-0.258966</td>\n",
       "      <td>-0.348317</td>\n",
       "      <td>0.464599</td>\n",
       "      <td>-0.125111</td>\n",
       "      <td>-0.244924</td>\n",
       "      <td>-0.730965</td>\n",
       "      <td>-0.040889</td>\n",
       "      <td>0.489917</td>\n",
       "    </tr>\n",
       "    <tr>\n",
       "      <th>3</th>\n",
       "      <td>-0.902481</td>\n",
       "      <td>0.652731</td>\n",
       "      <td>-0.405712</td>\n",
       "      <td>-0.453811</td>\n",
       "      <td>-0.533283</td>\n",
       "      <td>-0.251203</td>\n",
       "      <td>-0.340296</td>\n",
       "      <td>0.383326</td>\n",
       "      <td>0.723520</td>\n",
       "      <td>0.489917</td>\n",
       "    </tr>\n",
       "    <tr>\n",
       "      <th>4</th>\n",
       "      <td>-0.173745</td>\n",
       "      <td>0.652731</td>\n",
       "      <td>-0.422017</td>\n",
       "      <td>-0.453811</td>\n",
       "      <td>-0.050973</td>\n",
       "      <td>0.138536</td>\n",
       "      <td>0.335253</td>\n",
       "      <td>-0.452392</td>\n",
       "      <td>-0.295693</td>\n",
       "      <td>-0.042074</td>\n",
       "    </tr>\n",
       "  </tbody>\n",
       "</table>\n",
       "</div>"
      ],
      "text/plain": [
       "   Age of the patient  Gender of the patient  Total Bilirubin  \\\n",
       "0           -1.145393               0.652731        -0.373102   \n",
       "1           -0.355929               0.652731        -0.258966   \n",
       "2           -1.084665               0.652731        -0.258966   \n",
       "3           -0.902481               0.652731        -0.405712   \n",
       "4           -0.173745               0.652731        -0.422017   \n",
       "\n",
       "   Direct Bilirubin  Alkphos Alkaline Phosphotase  \\\n",
       "0         -0.418646                     -0.608124   \n",
       "1         -0.172493                     -0.450126   \n",
       "2         -0.348317                      0.464599   \n",
       "3         -0.453811                     -0.533283   \n",
       "4         -0.453811                     -0.050973   \n",
       "\n",
       "   Sgpt Alamine Aminotransferase  Sgot Aspartate Aminotransferase  \\\n",
       "0                      -0.291323                        -0.336322   \n",
       "1                      -0.342907                        -0.284662   \n",
       "2                      -0.125111                        -0.244924   \n",
       "3                      -0.251203                        -0.340296   \n",
       "4                       0.138536                         0.335253   \n",
       "\n",
       "   Total Protiens  ALB Albumin  A/G Ratio Albumin and Globulin Ratio  \n",
       "0       -0.080962     0.468717                              0.802852  \n",
       "1        0.661899     0.596118                              0.176981  \n",
       "2       -0.730965    -0.040889                              0.489917  \n",
       "3        0.383326     0.723520                              0.489917  \n",
       "4       -0.452392    -0.295693                             -0.042074  "
      ]
     },
     "metadata": {},
     "output_type": "display_data"
    }
   ],
   "source": [
    "X_train, X_test, y_train, y_test = train_test_split(X, y, stratify=y, test_size=0.2, random_state=42)\n",
    "\n",
    "# For Decision Tree\n",
    "X_train_unscaled = X_train\n",
    "X_test_unscaled = X_test\n",
    "\n",
    "# For other models\n",
    "scaler = StandardScaler()\n",
    "X_train_scaled = scaler.fit_transform(X_train)\n",
    "X_test_scaled = scaler.transform(X_test)\n",
    "# Convert scaled arrays back to DataFrames using original column names\n",
    "X_train_scaled_df = pd.DataFrame(X_train_scaled, columns=X_train.columns)\n",
    "X_test_scaled_df = pd.DataFrame(X_test_scaled, columns=X_test.columns)\n",
    "\n",
    "# Display the first few rows of the scaled training feature data\n",
    "display(X_train_scaled_df.head())"
   ]
  },
  {
   "cell_type": "code",
   "execution_count": 51,
   "id": "be2f80f6-2921-4a00-bcf9-328e8345d676",
   "metadata": {},
   "outputs": [],
   "source": [
    "# SMOTE\n",
    "smote = SMOTE(random_state=42)\n",
    "X_train_unscaled_smote, y_train_smote = smote.fit_resample(X_train_unscaled, y_train)\n",
    "X_train_scaled_smote, _ = smote.fit_resample(X_train_scaled, y_train)\n"
   ]
  },
  {
   "cell_type": "markdown",
   "id": "8e083c2e",
   "metadata": {},
   "source": [
    "### 4.1 Checking for Balance or Imbalance for Result"
   ]
  },
  {
   "cell_type": "code",
   "execution_count": 52,
   "id": "98808f70-f5e4-4257-b0a9-21efcdea157d",
   "metadata": {},
   "outputs": [
    {
     "data": {
      "image/png": "[encoded data removed]",
      "text/plain": [
       "<Figure size 432x288 with 1 Axes>"
      ]
     },
     "metadata": {
      "needs_background": "light"
     },
     "output_type": "display_data"
    }
   ],
   "source": [
    "import matplotlib.pyplot as plt\n",
    "\n",
    "# Count class occurrences\n",
    "class_counts = y_train_smote.value_counts()\n",
    "\n",
    "# Plot\n",
    "plt.figure(figsize=(6, 4))\n",
    "bars = plt.bar(class_counts.index.astype(str), class_counts.values, color='cornflowerblue')\n",
    "\n",
    "# Add percentage labels on top of bars\n",
    "total = class_counts.sum()\n",
    "for bar in bars:\n",
    "    height = bar.get_height()\n",
    "    plt.text(bar.get_x() + bar.get_width()/2, height + 100, f'{(height/total)*100:.1f}%', \n",
    "             ha='center', va='bottom', fontsize=10)\n",
    "\n",
    "plt.title('Class Distribution in y_train_smote After SMOTE')\n",
    "plt.xlabel('Class')\n",
    "plt.ylabel('Count')\n",
    "plt.tight_layout()\n",
    "plt.show()\n"
   ]
  },
  {
   "cell_type": "markdown",
   "id": "c14bbcf9",
   "metadata": {},
   "source": [
    "After SMOTE oversampling was applied to the training set, both classes (1 = liver, 0 = non-liver) were synthetically balanced to a 50:50 ratio. This technique addresses class imbalance by generating synthetic examples for the minority class, ensuring that the model doesn't overfit to the majority class during training."
   ]
  },
  {
   "cell_type": "markdown",
   "id": "d7bcc24a",
   "metadata": {},
   "source": [
    "### 4.2 PCA on SMOTE-scaled data"
   ]
  },
  {
   "cell_type": "code",
   "execution_count": 53,
   "id": "eacb9eee-0122-495b-912e-f6d8cffdeda8",
   "metadata": {},
   "outputs": [
    {
     "data": {
      "image/png": "[encoded data removed]",
      "text/plain": [
       "<Figure size 576x432 with 2 Axes>"
      ]
     },
     "metadata": {
      "needs_background": "light"
     },
     "output_type": "display_data"
    }
   ],
   "source": [
    "# used PCA only for visualization\n",
    "from sklearn.decomposition import PCA\n",
    "import matplotlib.pyplot as plt\n",
    "\n",
    "# Run PCA on SMOTE-scaled data\n",
    "pca = PCA(n_components=2)\n",
    "X_pca = pca.fit_transform(X_train_scaled_smote)\n",
    "\n",
    "# Visualize with correct color labels\n",
    "plt.figure(figsize=(8, 6))\n",
    "plt.scatter(X_pca[:, 0], X_pca[:, 1], c=y_train_smote, cmap='plasma', alpha=0.7)\n",
    "plt.xlabel('First Principal Component')\n",
    "plt.ylabel('Second Principal Component')\n",
    "plt.title('PCA: First 2 Principal Components')\n",
    "plt.colorbar(label='Class Label')\n",
    "plt.grid(True)\n",
    "plt.show()\n",
    "\n",
    "\n"
   ]
  },
  {
   "cell_type": "markdown",
   "id": "3d6db9ea",
   "metadata": {},
   "source": [
    "The above PCA plot visualizes the first two principal components of the SMOTE-balanced, scaled training data. The separation between yellow (class 1 = liver) and dark blue (class 0 = non-liver) points suggests that the classes are somewhat distinguishable in reduced dimensions, indicating good feature variance captured for classification."
   ]
  },
  {
   "cell_type": "code",
   "execution_count": 54,
   "id": "106dd83d",
   "metadata": {},
   "outputs": [
    {
     "name": "stdout",
     "output_type": "stream",
     "text": [
      "['Age of the patient', 'Gender of the patient', 'Total Bilirubin', 'Direct Bilirubin', 'Alkphos Alkaline Phosphotase', 'Sgpt Alamine Aminotransferase', 'Sgot Aspartate Aminotransferase', 'Total Protiens', 'ALB Albumin', 'A/G Ratio Albumin and Globulin Ratio', 'Result']\n",
      "Total columns: 11\n"
     ]
    }
   ],
   "source": [
    "# Print all column names\n",
    "print(df.columns.tolist())\n",
    "print(f\"Total columns: {len(df.columns)}\")\n",
    "\n"
   ]
  },
  {
   "cell_type": "code",
   "execution_count": 55,
   "id": "4c8842eb",
   "metadata": {},
   "outputs": [
    {
     "name": "stdout",
     "output_type": "stream",
     "text": [
      "['Age of the patient', 'Gender of the patient', 'Total Bilirubin', 'Direct Bilirubin', 'Alkphos Alkaline Phosphotase', 'Sgpt Alamine Aminotransferase', 'Sgot Aspartate Aminotransferase', 'Total Protiens', 'ALB Albumin', 'A/G Ratio Albumin and Globulin Ratio', 'Result']\n"
     ]
    }
   ],
   "source": [
    "print(df.columns.tolist())\n"
   ]
  },
  {
   "cell_type": "code",
   "execution_count": 56,
   "id": "b54f9b9a-7d23-4dfc-9f6c-85693ebf0572",
   "metadata": {},
   "outputs": [],
   "source": [
    "#from sklearn.decomposition import PCA\n",
    "#pca = PCA(n_components = 8)\n",
    "#pca.fit(X)\n",
    "#x_pca = pca.transform(X)"
   ]
  },
  {
   "cell_type": "markdown",
   "id": "1ddaf5d7",
   "metadata": {},
   "source": [
    "### Confusion Matrix Explained (for Liver Disease Prediction) : \n",
    "A confusion matrix is a powerful evaluation tool for classification models. It compares the actual labels vs the predicted labels, helping us understand how well our model is performing in terms of correct vs incorrect predictions.\n",
    "\n",
    "In this matrix:\n",
    "Class 0 = Non-Liver Patient\n",
    "\n",
    "Class 1 = Liver Patient\n",
    "\n",
    "### Key Components:\n",
    "***True Positives (TP)***: The model correctly predicted a positive case (e.g., identified a liver patient correctly).\n",
    "\n",
    "***True Negatives (TN)***: The model correctly predicted a negative case (e.g., identified a non-liver patient correctly).\n",
    "\n",
    "***False Positives (FP)***: The model incorrectly predicted a positive case (e.g., predicted liver disease when it wasn’t present).\n",
    "\n",
    "***False Negatives (FN)***: The model incorrectly predicted a negative case (e.g., missed an actual liver disease patient)."
   ]
  },
  {
   "cell_type": "markdown",
   "id": "021dad23",
   "metadata": {},
   "source": [
    "### MODEL 1 - DECISION TREE CLASSIFIER\n",
    "\n",
    "**Decision Trees** are basic models that split the data based on feature values to form a tree-like hierarchy of decisions. Each node in the tree is a condition on a feature, and each branch is a classification outcome.\n",
    "\n",
    "#### Why Use Decision Trees?\n",
    "- Easy to visualize and understand\n",
    "- Catches non-linear patterns in the data\n",
    "- Feature scaling not necessary\n",
    "- Great for feature importance analysis\n",
    "\n",
    "#### What We Did:\n",
    "- Treated a Decision Tree on SMOTE-balanced dataset\n",
    "- Applied default hyperparameters (or tuned if required)\n",
    "- Classified on test set and verified using confusion matrix and F1-score\n",
    "\n",
    "#### Bonus:\n",
    "- Visualized the tree structure to see precisely how the model was predicting — which features it was considering and where it was splitting data"
   ]
  },
  {
   "cell_type": "markdown",
   "id": "8333a20c",
   "metadata": {},
   "source": [
    "***Results based on before hyperparameter tuning***"
   ]
  },
  {
   "cell_type": "code",
   "execution_count": 57,
   "id": "1b4a35a7-dad3-4617-99bc-7389100e867a",
   "metadata": {},
   "outputs": [
    {
     "name": "stdout",
     "output_type": "stream",
     "text": [
      "Decision Tree Classification Report:\n",
      "              precision    recall  f1-score   support\n",
      "\n",
      "           0     0.5218    0.8140    0.6359      1059\n",
      "           1     0.9042    0.7018    0.7902      2649\n",
      "\n",
      "    accuracy                         0.7338      3708\n",
      "   macro avg     0.7130    0.7579    0.7131      3708\n",
      "weighted avg     0.7950    0.7338    0.7462      3708\n",
      "\n"
     ]
    },
    {
     "data": {
      "text/plain": [
       "<sklearn.metrics._plot.confusion_matrix.ConfusionMatrixDisplay at 0x1f3613c3eb0>"
      ]
     },
     "execution_count": 57,
     "metadata": {},
     "output_type": "execute_result"
    },
    {
     "data": {
      "image/png": "[encoded data removed]",
      "text/plain": [
       "<Figure size 432x288 with 2 Axes>"
      ]
     },
     "metadata": {
      "needs_background": "light"
     },
     "output_type": "display_data"
    }
   ],
   "source": [
    "from sklearn.tree import DecisionTreeClassifier\n",
    "from sklearn.metrics import classification_report, confusion_matrix, ConfusionMatrixDisplay\n",
    "\n",
    "# Train the model\n",
    "dt_model = DecisionTreeClassifier(max_depth=5, random_state=10)\n",
    "dt_model.fit(X_train_unscaled_smote, y_train_smote)\n",
    "\n",
    "# Predictions\n",
    "y_pred_dt = dt_model.predict(X_test_unscaled)\n",
    "y_proba_dt = dt_model.predict_proba(X_test_unscaled)[:, 1]\n",
    "\n",
    "# Classification Report\n",
    "print(\"Decision Tree Classification Report:\")\n",
    "print(classification_report(y_test, y_pred_dt, digits=4))\n",
    "\n",
    "# Confusion Matrix\n",
    "cm = confusion_matrix(y_test, y_pred_dt)\n",
    "disp = ConfusionMatrixDisplay(confusion_matrix=cm)\n",
    "disp.plot(cmap='Blues')\n"
   ]
  },
  {
   "cell_type": "markdown",
   "id": "ffe57d94",
   "metadata": {},
   "source": [
    "### Hyperparameter tuning of decision tree : \n",
    "***Results based on after hyperparameter tuning***"
   ]
  },
  {
   "cell_type": "code",
   "execution_count": 58,
   "id": "82fdc507-d0b7-4092-a448-9e4cfec72d79",
   "metadata": {},
   "outputs": [
    {
     "name": "stdout",
     "output_type": "stream",
     "text": [
      "Decision Tree\n",
      "Best Params: {'min_samples_split': 5, 'min_samples_leaf': 2, 'max_features': 'log2', 'max_depth': 10, 'criterion': 'gini'}\n",
      "Accuracy: 0.8805285868392665\n",
      "              precision    recall  f1-score   support\n",
      "\n",
      "           0       0.71      0.98      0.82      1059\n",
      "           1       0.99      0.84      0.91      2649\n",
      "\n",
      "    accuracy                           0.88      3708\n",
      "   macro avg       0.85      0.91      0.87      3708\n",
      "weighted avg       0.91      0.88      0.89      3708\n",
      "\n"
     ]
    },
    {
     "data": {
      "text/plain": [
       "<sklearn.metrics._plot.confusion_matrix.ConfusionMatrixDisplay at 0x1f3612f1cd0>"
      ]
     },
     "execution_count": 58,
     "metadata": {},
     "output_type": "execute_result"
    },
    {
     "data": {
      "image/png": "[encoded data removed]",
      "text/plain": [
       "<Figure size 432x288 with 2 Axes>"
      ]
     },
     "metadata": {
      "needs_background": "light"
     },
     "output_type": "display_data"
    }
   ],
   "source": [
    "from sklearn.tree import DecisionTreeClassifier\n",
    "from sklearn.model_selection import RandomizedSearchCV\n",
    "from sklearn.metrics import classification_report, accuracy_score\n",
    "\n",
    "dt_params = {\n",
    "    'criterion': ['gini', 'entropy'],\n",
    "    'max_depth': [1, 2, 3, 5, 6, 7, 8, 9, 10],\n",
    "    'min_samples_split': [2, 5, 10],\n",
    "    'min_samples_leaf': [1, 2, 4],\n",
    "    'max_features': ['sqrt', 'log2', None]\n",
    "}\n",
    "\n",
    "dt = DecisionTreeClassifier(random_state=42)\n",
    "dt_random = RandomizedSearchCV(dt, dt_params, n_iter=30, cv=5, scoring='accuracy', random_state=42, n_jobs=-1)\n",
    "dt_random.fit(X_train_unscaled_smote, y_train_smote)\n",
    "\n",
    "y_pred_dt = dt_random.predict(X_test_unscaled)\n",
    "print(\"Decision Tree\")\n",
    "print(\"Best Params:\", dt_random.best_params_)\n",
    "print(\"Accuracy:\", accuracy_score(y_test, y_pred_dt))\n",
    "print(classification_report(y_test, y_pred_dt))\n",
    "\n",
    "from sklearn.metrics import confusion_matrix, ConfusionMatrixDisplay\n",
    "cm = confusion_matrix(y_test, y_pred_dt)\n",
    "disp = ConfusionMatrixDisplay(confusion_matrix=cm)\n",
    "disp.plot(cmap='Blues')"
   ]
  },
  {
   "cell_type": "markdown",
   "id": "51f5f4cf",
   "metadata": {},
   "source": [
    "### Decision Tree Model: Before vs After Hyperparameter Tuning\n",
    "\n",
    "| Metric                        | Before Tuning | After Tuning |\n",
    "| ----------------------------- | ------------- | ------------ |\n",
    "| **Accuracy**                  | 73.38%        | **88.05%**   | \n",
    "| **Precision (Class 0)**       | 0.52          | **0.71**     |  \n",
    "| **Recall (Class 0)**          | 0.81          | **0.98**     |  \n",
    "| **F1-Score (Class 0)**        | 0.63          | **0.82**     |  \n",
    "| **Precision (Class 1)**       | 0.90          | **0.99**     |  \n",
    "| **Recall (Class 1)**          | 0.70          | **0.84**     |  \n",
    "| **F1-Score (Class 1)**        | 0.79          | **0.91**     |  \n",
    "| **False Negatives (Class 1)** | 790           | **421**      |  \n",
    "| **False Positives (Class 0)** | 197           | **22**       |  \n"
   ]
  },
  {
   "cell_type": "markdown",
   "id": "2d2f2da7",
   "metadata": {},
   "source": [
    "### MODEL 2 : LOGISTIC REGRESSION CLASSIFIER\n",
    "\n",
    "**Logistic Regression** is a supervised learning algorithm for binary classification tasks. It learns to predict the probability of a certain input to belong to a particular category by using a **sigmoid function**, which gives outputs between 0 and 1.\n",
    "\n",
    "Here in this project, it helps us to decide if a patient has liver disease (`1`) or not (`0`).\n",
    "\n",
    "---\n",
    "- **Interpretable & Simple**: It illustrates how every feature influences the result\n",
    "- **Quick to Train**: Light-weight model, best for quick baselines\n",
    "- **Probability Output**: Best used in medical fields where we want to understand levels of risk\n",
    "\n",
    "---\n",
    "\n",
    "#### What We Did:\n",
    "- Trained on the **SMOTE-balanced** dataset to tackle class imbalance\n",
    "- Tested on the **original test set** to preserve honest evaluation\n",
    "- Evaluated using:\n",
    "  - **Accuracy** – overall accuracy\n",
    "- **Precision** – how many of the predicted positives were actually correct\n",
    "  - **Recall** – how many actual positives were detected correctly (extremely critical in medical data!)\n",
    "  - **F1-score** – trade-off between precision and recall\n",
    "\n",
    "---\n",
    "\n",
    "#### Notable Takeaway:\n",
    "Logistic Regression is a great baseline model. It may not necessarily be able to uncover intricate patterns, but its explainability and efficiency make it a good choice in using as a starting point in selecting a model.\n"
   ]
  },
  {
   "cell_type": "markdown",
   "id": "f7fc543a",
   "metadata": {},
   "source": [
    "***Results based on before hyperparameter tuning***"
   ]
  },
  {
   "cell_type": "code",
   "execution_count": 59,
   "id": "0b4df857-7f87-4739-a929-317322f39092",
   "metadata": {},
   "outputs": [
    {
     "name": "stdout",
     "output_type": "stream",
     "text": [
      "Logistic Regression Performance:\n",
      "Accuracy: 0.6394282632146709\n",
      "Confusion Matrix:\n",
      " [[ 918  141]\n",
      " [1196 1453]]\n",
      "Classification Report:\n",
      "               precision    recall  f1-score   support\n",
      "\n",
      "           0       0.43      0.87      0.58      1059\n",
      "           1       0.91      0.55      0.68      2649\n",
      "\n",
      "    accuracy                           0.64      3708\n",
      "   macro avg       0.67      0.71      0.63      3708\n",
      "weighted avg       0.78      0.64      0.65      3708\n",
      "\n"
     ]
    },
    {
     "data": {
      "text/plain": [
       "<sklearn.metrics._plot.confusion_matrix.ConfusionMatrixDisplay at 0x1f3621c6e50>"
      ]
     },
     "execution_count": 59,
     "metadata": {},
     "output_type": "execute_result"
    },
    {
     "data": {
      "image/png": "[encoded data removed]",
      "text/plain": [
       "<Figure size 432x288 with 2 Axes>"
      ]
     },
     "metadata": {
      "needs_background": "light"
     },
     "output_type": "display_data"
    }
   ],
   "source": [
    "from sklearn.linear_model import LogisticRegression\n",
    "from sklearn.metrics import accuracy_score, confusion_matrix, classification_report, ConfusionMatrixDisplay\n",
    "\n",
    "# Train the logistic regression model\n",
    "log_model = LogisticRegression(max_iter=1000, random_state=42)\n",
    "log_model.fit(X_train_scaled_smote, y_train_smote)\n",
    "\n",
    "y_pred_lr = log_model.predict(X_test_scaled)\n",
    "\n",
    "# Evaluate the model\n",
    "print(\"Logistic Regression Performance:\")\n",
    "print(\"Accuracy:\", accuracy_score(y_test, y_pred_lr))\n",
    "print(\"Confusion Matrix:\\n\", confusion_matrix(y_test, y_pred_lr))\n",
    "print(\"Classification Report:\\n\", classification_report(y_test, y_pred_lr))\n",
    "\n",
    "# Confusion matrix\n",
    "ConfusionMatrixDisplay.from_predictions(y_test, y_pred_lr, cmap='Blues')\n"
   ]
  },
  {
   "cell_type": "markdown",
   "id": "f5697779",
   "metadata": {},
   "source": [
    "### Hyperparamneter tuning of Logistic Regression\n",
    "***Results based on after hyperparameter tuning***"
   ]
  },
  {
   "cell_type": "code",
   "execution_count": 60,
   "id": "2438385c-3bdc-401b-83fb-a077868add3f",
   "metadata": {},
   "outputs": [
    {
     "name": "stdout",
     "output_type": "stream",
     "text": [
      "Fitting 5 folds for each of 20 candidates, totalling 100 fits\n"
     ]
    },
    {
     "name": "stderr",
     "output_type": "stream",
     "text": [
      "C:\\Users\\pp139\\anaconda3\\lib\\site-packages\\sklearn\\linear_model\\_logistic.py:1172: UserWarning: l1_ratio parameter is only used when penalty is 'elasticnet'. Got (penalty=l1)\n",
      "  warnings.warn(\n"
     ]
    },
    {
     "name": "stdout",
     "output_type": "stream",
     "text": [
      "Best Parameters: {'solver': 'saga', 'penalty': 'l1', 'l1_ratio': 0.5, 'C': 545.5594781168514}\n",
      "\n",
      "Logistic Regression Metrics After Tuning:\n",
      "Accuracy: 0.63915857605178\n",
      "Classification Report:\n",
      "               precision    recall  f1-score   support\n",
      "\n",
      "           0       0.43      0.87      0.58      1059\n",
      "           1       0.91      0.55      0.68      2649\n",
      "\n",
      "    accuracy                           0.64      3708\n",
      "   macro avg       0.67      0.71      0.63      3708\n",
      "weighted avg       0.78      0.64      0.65      3708\n",
      "\n"
     ]
    },
    {
     "data": {
      "text/plain": [
       "<sklearn.metrics._plot.confusion_matrix.ConfusionMatrixDisplay at 0x1f361838670>"
      ]
     },
     "execution_count": 60,
     "metadata": {},
     "output_type": "execute_result"
    },
    {
     "data": {
      "image/png": "[encoded data removed]",
      "text/plain": [
       "<Figure size 432x288 with 2 Axes>"
      ]
     },
     "metadata": {
      "needs_background": "light"
     },
     "output_type": "display_data"
    }
   ],
   "source": [
    "from sklearn.linear_model import LogisticRegression\n",
    "from sklearn.model_selection import RandomizedSearchCV\n",
    "from sklearn.metrics import accuracy_score, classification_report, confusion_matrix\n",
    "import numpy as np\n",
    "import matplotlib.pyplot as plt\n",
    "import seaborn as sns\n",
    "\n",
    "# Define parameter grid\n",
    "param_dist = {\n",
    "    'C': np.logspace(-4, 4, 20),\n",
    "    'penalty': ['l1', 'l2'],\n",
    "    'solver': ['liblinear', 'saga'],\n",
    "    'l1_ratio': np.linspace(0, 1, 5)  # Note: only used with 'elasticnet'\n",
    "}\n",
    "\n",
    "# Randomized search setup\n",
    "random_search = RandomizedSearchCV(\n",
    "    estimator=LogisticRegression(max_iter=1000, random_state=42),\n",
    "    param_distributions=param_dist,\n",
    "    n_iter=20,\n",
    "    scoring='f1',\n",
    "    cv=5,\n",
    "    verbose=1,\n",
    "    n_jobs=-1,\n",
    "    random_state=42\n",
    ")\n",
    "\n",
    "# Fit to training data\n",
    "random_search.fit(X_train_scaled_smote, y_train_smote)\n",
    "\n",
    "best_log_model = random_search.best_estimator_\n",
    "\n",
    "y_pred = best_log_model.predict(X_test_scaled)\n",
    "\n",
    "# Evaluation\n",
    "print(\"Best Parameters:\", random_search.best_params_)\n",
    "print(\"\\nLogistic Regression Metrics After Tuning:\")\n",
    "print(\"Accuracy:\", accuracy_score(y_test, y_pred))\n",
    "print(\"Classification Report:\\n\", classification_report(y_test, y_pred))\n",
    "\n",
    "# Confusion Matrix\n",
    "cm = confusion_matrix(y_test, y_pred)\n",
    "ConfusionMatrixDisplay(confusion_matrix=cm).plot(cmap='Blues')\n"
   ]
  },
  {
   "cell_type": "markdown",
   "id": "b029752b",
   "metadata": {},
   "source": [
    " Logistic Regression – Before vs After Hyperparameter Tuning\n",
    "\n",
    "| Metric                    | **Before Tuning** | **After Tuning** |\n",
    "| ------------------------- | ----------------- | ---------------- |\n",
    "| **Accuracy**              | 63.94%            | 63.92%           |\n",
    "| **Precision (Class 0)**   | 0.43              | 0.43             |\n",
    "| **Recall (Class 0)**      | 0.87              | 0.87             |\n",
    "| **F1-Score (Class 0)**    | 0.58              | 0.58             |\n",
    "| **Precision (Class 1)**   | 0.91              | 0.91             |\n",
    "| **Recall (Class 1)**      | 0.55              | 0.55             |\n",
    "| **F1-Score (Class 1)**    | 0.68              | 0.68             |\n",
    "| **Macro Avg F1-Score**    | 0.63              | 0.63             |\n",
    "| **Weighted Avg F1-Score** | 0.65              | 0.65             |\n"
   ]
  },
  {
   "cell_type": "markdown",
   "id": "299a4563",
   "metadata": {},
   "source": [
    "In our case, we are observing that the accuracy and classification metrics before and after hyperparameter tuning are nearly the same. This is perfectly reasonable and can be explained by how Logistic Regression works and how our data behaves.\n",
    "Logistic Regression is a simple, linear model that works best when the relationship between features and target is linearly separable or straightforward. Since it has only a few tunable hyperparameters (C, penalty, and solver), there’s a limit to how much improvement tuning can offer.\n",
    "hence we are using other models such as A non-linear models (like Random Forest or XGBoost) further.\n",
    "also other reason could be The model was already close to its optimal configuration for this dataset."
   ]
  },
  {
   "cell_type": "markdown",
   "id": "47cd2fbd",
   "metadata": {},
   "source": [
    "### MODEL 3 : GAUSSIAN NAIVE BAYES METRICS \n",
    "\n",
    "**Naive Bayes** is a probabilistic classifier based on Bayes' Theorem. It has the simplifying assumption that features are conditionally independent of the class label — a \"naive\" assumption, but surprisingly powerful in practice.\n",
    "\n",
    "In this project, we used **Gaussian Naive Bayes**, which has the assumption that features are normally (Gaussian) distributed.\n",
    "\n",
    "---\n",
    "\n",
    "#### Why Use Naive Bayes?\n",
    "- **Very fast** to train and predict\n",
    "- Works well on small datasets\n",
    "- Simple to apply and easy to implement\n",
    "- Ideal for comparing performance\n",
    "\n",
    "---\n",
    "\n",
    "#### What We Did:\n",
    "- Trained Gaussian Naive Bayes model on the **SMOTE-balanced training set**\n",
    "- Performed predictions on the **test set**\n",
    "- Evaluated the model against:\n",
    "  - **Accuracy**: Overall model accuracy\n",
    "  - **Precision**: Percentage of correctly predicted liver disease cases\n",
    "  - **Recall**: Precision in identifying actual liver disease patients\n",
    "- **F1-score**: Balance between precision and recall\n",
    "\n",
    "---\n",
    "\n",
    "#### Interpretation of Metrics:\n",
    "Naive Bayes won't necessarily outperform more complex models, but is useful for:\n",
    "- **Quick insights**\n",
    "- **Baseline comparison**\n",
    "- Cases where interpretability and speed are important\n",
    "\n",
    "---\n",
    "\n",
    "#### Limitation:\n",
    "Feature independence assumption never holds in medical datasets — which affects performance. However, it's a good one to keep around as a light model and sanity check.\n"
   ]
  },
  {
   "cell_type": "markdown",
   "id": "6fe2725c",
   "metadata": {},
   "source": [
    "***Results based on before hyperparameter tuning***"
   ]
  },
  {
   "cell_type": "code",
   "execution_count": 61,
   "id": "be1e3ca1-9965-4f10-a023-4eb321b9403f",
   "metadata": {},
   "outputs": [
    {
     "name": "stdout",
     "output_type": "stream",
     "text": [
      "\n",
      "Gaussian Naive Bayes Metrics:\n",
      "Accuracy: 0.5587918015102481\n",
      "Precision: 0.9617137648131268\n",
      "Recall: 0.39826349565873914\n",
      "F1 Score: 0.5632674853176721\n",
      "ROC AUC: 0.7412532247100212\n",
      "\n",
      "Classification Report:\n",
      "               precision    recall  f1-score   support\n",
      "\n",
      "           0       0.39      0.96      0.55      1059\n",
      "           1       0.96      0.40      0.56      2649\n",
      "\n",
      "    accuracy                           0.56      3708\n",
      "   macro avg       0.68      0.68      0.56      3708\n",
      "weighted avg       0.80      0.56      0.56      3708\n",
      "\n"
     ]
    },
    {
     "data": {
      "image/png": "[encoded data removed]",
      "text/plain": [
       "<Figure size 432x288 with 2 Axes>"
      ]
     },
     "metadata": {
      "needs_background": "light"
     },
     "output_type": "display_data"
    }
   ],
   "source": [
    "from sklearn.naive_bayes import GaussianNB\n",
    "from sklearn.metrics import precision_score, recall_score, f1_score, accuracy_score, roc_auc_score\n",
    "\n",
    "# Train\n",
    "gnb_model = GaussianNB()\n",
    "gnb_model.fit(X_train_scaled_smote, y_train_smote)\n",
    "\n",
    "# Predict\n",
    "y_pred_gnb = gnb_model.predict(X_test_scaled)\n",
    "y_proba_gnb = gnb_model.predict_proba(X_test_scaled)[:, 1]\n",
    "\n",
    "# Metrics\n",
    "print(\"\\nGaussian Naive Bayes Metrics:\")\n",
    "print(\"Accuracy:\", accuracy_score(y_test, y_pred_gnb))\n",
    "print(\"Precision:\", precision_score(y_test, y_pred_gnb))\n",
    "print(\"Recall:\", recall_score(y_test, y_pred_gnb))\n",
    "print(\"F1 Score:\", f1_score(y_test, y_pred_gnb))\n",
    "print(\"ROC AUC:\", roc_auc_score(y_test, y_proba_gnb))\n",
    "\n",
    "print(\"\\nClassification Report:\\n\", classification_report(y_test, y_pred_gnb))\n",
    "\n",
    "# Confusion Matrix\n",
    "cm_gnb = confusion_matrix(y_test, y_pred_gnb)\n",
    "ConfusionMatrixDisplay(confusion_matrix=cm_gnb).plot(cmap='Blues')\n",
    "plt.title(\"GaussianNB - Confusion Matrix\")\n",
    "plt.show()"
   ]
  },
  {
   "cell_type": "markdown",
   "id": "4bf7c8cf",
   "metadata": {},
   "source": [
    "### Hyperparametertuning of Naive Bayes Model\n",
    "***Results based on after hyperparameter tuning***"
   ]
  },
  {
   "cell_type": "code",
   "execution_count": 62,
   "id": "37dd8f15-6fb1-4762-943b-2bffcf9275f4",
   "metadata": {},
   "outputs": [
    {
     "name": "stdout",
     "output_type": "stream",
     "text": [
      "Fitting 5 folds for each of 20 candidates, totalling 100 fits\n",
      "Best Parameters: {'var_smoothing': 0.00012045035402587836}\n",
      "\n",
      "Classification Report:\n",
      "               precision    recall  f1-score   support\n",
      "\n",
      "           0       0.39      0.96      0.56      1059\n",
      "           1       0.96      0.40      0.57      2649\n",
      "\n",
      "    accuracy                           0.56      3708\n",
      "   macro avg       0.68      0.68      0.56      3708\n",
      "weighted avg       0.80      0.56      0.56      3708\n",
      "\n"
     ]
    },
    {
     "data": {
      "image/png": "[encoded data removed]",
      "text/plain": [
       "<Figure size 432x288 with 2 Axes>"
      ]
     },
     "metadata": {
      "needs_background": "light"
     },
     "output_type": "display_data"
    }
   ],
   "source": [
    "from sklearn.naive_bayes import GaussianNB\n",
    "from sklearn.model_selection import RandomizedSearchCV, StratifiedKFold\n",
    "from sklearn.metrics import (\n",
    "    classification_report, \n",
    "    accuracy_score, \n",
    "    f1_score, \n",
    "    roc_auc_score, \n",
    "    confusion_matrix\n",
    ")\n",
    "import numpy as np\n",
    "import matplotlib.pyplot as plt\n",
    "import seaborn as sns\n",
    "\n",
    "# Define model\n",
    "gnb = GaussianNB()\n",
    "\n",
    "# Define hyperparameter distribution\n",
    "param_dist = {\n",
    "    'var_smoothing': np.logspace(-12, -2, 100)\n",
    "}\n",
    "\n",
    "cv = StratifiedKFold(n_splits=5, shuffle=True, random_state=42)\n",
    "\n",
    "# RandomizedSearchCV setup\n",
    "random_search = RandomizedSearchCV(\n",
    "    estimator=gnb,\n",
    "    param_distributions=param_dist,\n",
    "    n_iter=20,\n",
    "    scoring='f1_macro',  # Better for imbalanced datasets\n",
    "    cv=cv,\n",
    "    n_jobs=-1,\n",
    "    verbose=1,\n",
    "    random_state=42\n",
    ")\n",
    "\n",
    "# Fit model to scaled training data\n",
    "random_search.fit(X_train_scaled, y_train)\n",
    "\n",
    "# Predict on scaled test set\n",
    "y_pred = random_search.predict(X_test_scaled)\n",
    "y_proba = random_search.predict_proba(X_test_scaled)[:, 1]\n",
    "\n",
    "# Evaluation\n",
    "print(\"Best Parameters:\", random_search.best_params_)\n",
    "\n",
    "print(\"\\nClassification Report:\\n\", classification_report(y_test, y_pred))\n",
    "\n",
    "# Confusion Matrix\n",
    "cm = confusion_matrix(y_test, y_pred)\n",
    "plt.figure(figsize=(6, 4))\n",
    "sns.heatmap(cm, annot=True, fmt='d', cmap='Blues', xticklabels=[0, 1], yticklabels=[0, 1])\n",
    "plt.xlabel(\"Predicted Label\")\n",
    "plt.ylabel(\"True Label\")\n",
    "plt.title(\"Confusion Matrix - GaussianNB\")\n",
    "plt.tight_layout()\n",
    "plt.show()\n"
   ]
  },
  {
   "cell_type": "markdown",
   "id": "5d659aa4",
   "metadata": {},
   "source": [
    "Gaussian Naive Bayes – Before vs After Hyperparameter Tuning\n",
    "| **Metric**                | **Before Tuning** | **After Tuning** |\n",
    "| ------------------------- | ----------------- | ---------------- |\n",
    "| **Accuracy**              | 55.87%            | 56.00%           |\n",
    "| **Precision (Class 0)**   | 0.39              | 0.39             |\n",
    "| **Recall (Class 0)**      | 0.96              | 0.96             |\n",
    "| **F1-Score (Class 0)**    | 0.55              | 0.56             |\n",
    "| **Precision (Class 1)**   | 0.96              | 0.96             |\n",
    "| **Recall (Class 1)**      | 0.40              | 0.40             |\n",
    "| **F1-Score (Class 1)**    | 0.56              | 0.57             |\n",
    "| **Macro Avg F1-Score**    | 0.56              | 0.56             |\n",
    "| **Weighted Avg F1-Score** | 0.56              | 0.56             |\n"
   ]
  },
  {
   "cell_type": "markdown",
   "id": "c3be4193",
   "metadata": {},
   "source": [
    "### Why Accuracy Isn't Changing for Naive Bayes\n",
    "Only One Tunable Hyperparameter (var_smoothing)\n",
    "GaussianNB is extremely simple and has only one hyperparameter.\n",
    "var_smoothing just adds a small number to variances to avoid division by zero.\n",
    "Unless data has extreme variance instability or noise, changing this has minimal impact on predictions."
   ]
  },
  {
   "cell_type": "markdown",
   "id": "569ddcf5",
   "metadata": {},
   "source": [
    "### MODEL 4 : XG BOOST MODEL\n",
    "\n",
    "**XGBoost (Extreme Gradient Boosting)** is a fast, scalable machine learning algorithm that uses gradient boosting decision trees. It's famous for producing the best results in structured/tabular data competitions and practical ML projects.\n",
    "\n",
    "It works by building a sequence of trees, with each successive tree correcting the errors of the previous one.\n",
    "\n",
    "#### Why Use XGBoost?\n",
    "- **Handles both linear and non-linear relationships**\n",
    "- **In-built regularization** to prevent overfitting\n",
    "- **Parallel and fast training** — significantly faster than standard boosting\n",
    "- **Handles imbalanced data** (like liver disease) and missing values\n",
    "\n",
    "#### What We Did:\n",
    "- Trained XGBoost on the **SMOTE-balanced training set**\n",
    "- Predicted on the **original test set**\n",
    "- Measured with:\n",
    "  - **Accuracy**\n",
    "  - **Precision**\n",
    "  - **Recall**\n",
    "  - **F1-Score**\n",
    "\n",
    "#### Why It's Powerful:\n",
    "- XGBoost uses **gradient descent optimization** and **decision trees**\n",
    "- It gives us more subtle, fine-grained predictions — perfect for medical classification problems\n",
    "\n",
    "#### Note:\n",
    "It is more complex than models like logistic regression or Naive Bayes, but it gives us a **gigantic performance boost** and usually the best model in structured data problems like this one.\n",
    "\n"
   ]
  },
  {
   "cell_type": "code",
   "execution_count": 63,
   "id": "5a5c9918-f687-4acc-a3b9-6e608ff7bb48",
   "metadata": {},
   "outputs": [],
   "source": [
    "from xgboost import XGBClassifier\n",
    "from sklearn.metrics import classification_report, confusion_matrix, accuracy_score"
   ]
  },
  {
   "cell_type": "code",
   "execution_count": 64,
   "id": "3cdcc5f2",
   "metadata": {},
   "outputs": [],
   "source": [
    "# ✅ 1. Define features and target\n",
    "X = df.drop('Result', axis=1)\n",
    "y = df['Result'].replace(2, 0)  # Ensure binary target labels\n",
    "\n",
    "# ✅ 2. Apply train-test split (your block goes here)\n",
    "from sklearn.model_selection import train_test_split\n",
    "\n",
    "X_train, X_test, y_train, y_test = train_test_split(\n",
    "    X, y,\n",
    "    test_size=0.2,\n",
    "    stratify=y,\n",
    "    random_state=42\n",
    ")\n"
   ]
  },
  {
   "cell_type": "code",
   "execution_count": 65,
   "id": "26e6fa68",
   "metadata": {},
   "outputs": [
    {
     "name": "stderr",
     "output_type": "stream",
     "text": [
      "C:\\Users\\pp139\\anaconda3\\lib\\site-packages\\xgboost\\core.py:158: UserWarning: [20:01:01] WARNING: C:\\buildkite-agent\\builds\\buildkite-windows-cpu-autoscaling-group-i-08cbc0333d8d4aae1-1\\xgboost\\xgboost-ci-windows\\src\\learner.cc:740: \n",
      "Parameters: { \"use_label_encoder\" } are not used.\n",
      "\n",
      "  warnings.warn(smsg, UserWarning)\n"
     ]
    },
    {
     "data": {
      "text/html": [
       "<style>#sk-container-id-1 {color: black;}#sk-container-id-1 pre{padding: 0;}#sk-container-id-1 div.sk-toggleable {background-color: white;}#sk-container-id-1 label.sk-toggleable__label {cursor: pointer;display: block;width: 100%;margin-bottom: 0;padding: 0.3em;box-sizing: border-box;text-align: center;}#sk-container-id-1 label.sk-toggleable__label-arrow:before {content: \"▸\";float: left;margin-right: 0.25em;color: #696969;}#sk-container-id-1 label.sk-toggleable__label-arrow:hover:before {color: black;}#sk-container-id-1 div.sk-estimator:hover label.sk-toggleable__label-arrow:before {color: black;}#sk-container-id-1 div.sk-toggleable__content {max-height: 0;max-width: 0;overflow: hidden;text-align: left;background-color: #f0f8ff;}#sk-container-id-1 div.sk-toggleable__content pre {margin: 0.2em;color: black;border-radius: 0.25em;background-color: #f0f8ff;}#sk-container-id-1 input.sk-toggleable__control:checked~div.sk-toggleable__content {max-height: 200px;max-width: 100%;overflow: auto;}#sk-container-id-1 input.sk-toggleable__control:checked~label.sk-toggleable__label-arrow:before {content: \"▾\";}#sk-container-id-1 div.sk-estimator input.sk-toggleable__control:checked~label.sk-toggleable__label {background-color: #d4ebff;}#sk-container-id-1 div.sk-label input.sk-toggleable__control:checked~label.sk-toggleable__label {background-color: #d4ebff;}#sk-container-id-1 input.sk-hidden--visually {border: 0;clip: rect(1px 1px 1px 1px);clip: rect(1px, 1px, 1px, 1px);height: 1px;margin: -1px;overflow: hidden;padding: 0;position: absolute;width: 1px;}#sk-container-id-1 div.sk-estimator {font-family: monospace;background-color: #f0f8ff;border: 1px dotted black;border-radius: 0.25em;box-sizing: border-box;margin-bottom: 0.5em;}#sk-container-id-1 div.sk-estimator:hover {background-color: #d4ebff;}#sk-container-id-1 div.sk-parallel-item::after {content: \"\";width: 100%;border-bottom: 1px solid gray;flex-grow: 1;}#sk-container-id-1 div.sk-label:hover label.sk-toggleable__label {background-color: #d4ebff;}#sk-container-id-1 div.sk-serial::before {content: \"\";position: absolute;border-left: 1px solid gray;box-sizing: border-box;top: 0;bottom: 0;left: 50%;z-index: 0;}#sk-container-id-1 div.sk-serial {display: flex;flex-direction: column;align-items: center;background-color: white;padding-right: 0.2em;padding-left: 0.2em;position: relative;}#sk-container-id-1 div.sk-item {position: relative;z-index: 1;}#sk-container-id-1 div.sk-parallel {display: flex;align-items: stretch;justify-content: center;background-color: white;position: relative;}#sk-container-id-1 div.sk-item::before, #sk-container-id-1 div.sk-parallel-item::before {content: \"\";position: absolute;border-left: 1px solid gray;box-sizing: border-box;top: 0;bottom: 0;left: 50%;z-index: -1;}#sk-container-id-1 div.sk-parallel-item {display: flex;flex-direction: column;z-index: 1;position: relative;background-color: white;}#sk-container-id-1 div.sk-parallel-item:first-child::after {align-self: flex-end;width: 50%;}#sk-container-id-1 div.sk-parallel-item:last-child::after {align-self: flex-start;width: 50%;}#sk-container-id-1 div.sk-parallel-item:only-child::after {width: 0;}#sk-container-id-1 div.sk-dashed-wrapped {border: 1px dashed gray;margin: 0 0.4em 0.5em 0.4em;box-sizing: border-box;padding-bottom: 0.4em;background-color: white;}#sk-container-id-1 div.sk-label label {font-family: monospace;font-weight: bold;display: inline-block;line-height: 1.2em;}#sk-container-id-1 div.sk-label-container {text-align: center;}#sk-container-id-1 div.sk-container {/* jupyter's `normalize.less` sets `[hidden] { display: none; }` but bootstrap.min.css set `[hidden] { display: none !important; }` so we also need the `!important` here to be able to override the default hidden behavior on the sphinx rendered scikit-learn.org. See: https://github.com/scikit-learn/scikit-learn/issues/21755 */display: inline-block !important;position: relative;}#sk-container-id-1 div.sk-text-repr-fallback {display: none;}</style><div id=\"sk-container-id-1\" class=\"sk-top-container\"><div class=\"sk-text-repr-fallback\"><pre>XGBClassifier(base_score=None, booster=None, callbacks=None,\n",
       "              colsample_bylevel=None, colsample_bynode=None,\n",
       "              colsample_bytree=None, device=None, early_stopping_rounds=None,\n",
       "              enable_categorical=False, eval_metric=&#x27;logloss&#x27;,\n",
       "              feature_types=None, gamma=None, grow_policy=None,\n",
       "              importance_type=None, interaction_constraints=None,\n",
       "              learning_rate=None, max_bin=None, max_cat_threshold=None,\n",
       "              max_cat_to_onehot=None, max_delta_step=None, max_depth=None,\n",
       "              max_leaves=None, min_child_weight=None, missing=nan,\n",
       "              monotone_constraints=None, multi_strategy=None, n_estimators=None,\n",
       "              n_jobs=None, num_parallel_tree=None, random_state=42, ...)</pre><b>In a Jupyter environment, please rerun this cell to show the HTML representation or trust the notebook. <br />On GitHub, the HTML representation is unable to render, please try loading this page with nbviewer.org.</b></div><div class=\"sk-container\" hidden><div class=\"sk-item\"><div class=\"sk-estimator sk-toggleable\"><input class=\"sk-toggleable__control sk-hidden--visually\" id=\"sk-estimator-id-1\" type=\"checkbox\" checked><label for=\"sk-estimator-id-1\" class=\"sk-toggleable__label sk-toggleable__label-arrow\">XGBClassifier</label><div class=\"sk-toggleable__content\"><pre>XGBClassifier(base_score=None, booster=None, callbacks=None,\n",
       "              colsample_bylevel=None, colsample_bynode=None,\n",
       "              colsample_bytree=None, device=None, early_stopping_rounds=None,\n",
       "              enable_categorical=False, eval_metric=&#x27;logloss&#x27;,\n",
       "              feature_types=None, gamma=None, grow_policy=None,\n",
       "              importance_type=None, interaction_constraints=None,\n",
       "              learning_rate=None, max_bin=None, max_cat_threshold=None,\n",
       "              max_cat_to_onehot=None, max_delta_step=None, max_depth=None,\n",
       "              max_leaves=None, min_child_weight=None, missing=nan,\n",
       "              monotone_constraints=None, multi_strategy=None, n_estimators=None,\n",
       "              n_jobs=None, num_parallel_tree=None, random_state=42, ...)</pre></div></div></div></div></div>"
      ],
      "text/plain": [
       "XGBClassifier(base_score=None, booster=None, callbacks=None,\n",
       "              colsample_bylevel=None, colsample_bynode=None,\n",
       "              colsample_bytree=None, device=None, early_stopping_rounds=None,\n",
       "              enable_categorical=False, eval_metric='logloss',\n",
       "              feature_types=None, gamma=None, grow_policy=None,\n",
       "              importance_type=None, interaction_constraints=None,\n",
       "              learning_rate=None, max_bin=None, max_cat_threshold=None,\n",
       "              max_cat_to_onehot=None, max_delta_step=None, max_depth=None,\n",
       "              max_leaves=None, min_child_weight=None, missing=nan,\n",
       "              monotone_constraints=None, multi_strategy=None, n_estimators=None,\n",
       "              n_jobs=None, num_parallel_tree=None, random_state=42, ...)"
      ]
     },
     "execution_count": 65,
     "metadata": {},
     "output_type": "execute_result"
    }
   ],
   "source": [
    "xgb_model = XGBClassifier(random_state=42, use_label_encoder=False, eval_metric='logloss')\n",
    "xgb_model.fit(X_train_scaled_smote, y_train_smote)"
   ]
  },
  {
   "cell_type": "code",
   "execution_count": 66,
   "id": "57971d16",
   "metadata": {},
   "outputs": [],
   "source": [
    "y_pred_xgb = xgb_model.predict(X_test_scaled)\n",
    "y_proba_xgb = xgb_model.predict_proba(X_test_scaled)[:, 1]"
   ]
  },
  {
   "cell_type": "code",
   "execution_count": 67,
   "id": "58f58bec",
   "metadata": {},
   "outputs": [
    {
     "name": "stdout",
     "output_type": "stream",
     "text": [
      " XGBoost Classifier Metrics:\n",
      "Accuracy: 0.9986515641855448\n",
      "Precision: 0.9992447129909365\n",
      "Recall: 0.9988674971687429\n",
      "F1 Score: 0.9990560694732868\n",
      "ROC AUC: 0.9998192700864188\n",
      "\n",
      "Classification Report:\n",
      "               precision    recall  f1-score   support\n",
      "\n",
      "           0       1.00      1.00      1.00      1059\n",
      "           1       1.00      1.00      1.00      2649\n",
      "\n",
      "    accuracy                           1.00      3708\n",
      "   macro avg       1.00      1.00      1.00      3708\n",
      "weighted avg       1.00      1.00      1.00      3708\n",
      "\n"
     ]
    },
    {
     "data": {
      "text/plain": [
       "<sklearn.metrics._plot.confusion_matrix.ConfusionMatrixDisplay at 0x1f361844310>"
      ]
     },
     "execution_count": 67,
     "metadata": {},
     "output_type": "execute_result"
    },
    {
     "data": {
      "image/png": "[encoded data removed]",
      "text/plain": [
       "<Figure size 432x288 with 2 Axes>"
      ]
     },
     "metadata": {
      "needs_background": "light"
     },
     "output_type": "display_data"
    }
   ],
   "source": [
    "# Evaluation metrics\n",
    "print(\" XGBoost Classifier Metrics:\")\n",
    "print(\"Accuracy:\", accuracy_score(y_test, y_pred_xgb))\n",
    "print(\"Precision:\", precision_score(y_test, y_pred_xgb))\n",
    "print(\"Recall:\", recall_score(y_test, y_pred_xgb))\n",
    "print(\"F1 Score:\", f1_score(y_test, y_pred_xgb))\n",
    "print(\"ROC AUC:\", roc_auc_score(y_test, y_proba_xgb))\n",
    "\n",
    "print(\"\\nClassification Report:\\n\", classification_report(y_test, y_pred_xgb))\n",
    "\n",
    "# Confusion matrix\n",
    "cm = confusion_matrix(y_test, y_pred_xgb)\n",
    "ConfusionMatrixDisplay(confusion_matrix=cm).plot(cmap='Blues')"
   ]
  },
  {
   "cell_type": "code",
   "execution_count": 68,
   "id": "3c7e132b",
   "metadata": {},
   "outputs": [
    {
     "name": "stdout",
     "output_type": "stream",
     "text": [
      "Train Accuracy: 0.9994808872109485\n",
      "Train F1: 0.9994809117078005\n",
      "Train ROC AUC: 0.9999931806454156\n"
     ]
    }
   ],
   "source": [
    "# Training predictions\n",
    "y_train_pred = xgb_model.predict(X_train_scaled_smote)\n",
    "y_train_proba = xgb_model.predict_proba(X_train_scaled_smote)[:, 1]\n",
    "\n",
    "# Training metrics\n",
    "from sklearn.metrics import accuracy_score, f1_score, roc_auc_score\n",
    "print(\"Train Accuracy:\", accuracy_score(y_train_smote, y_train_pred))\n",
    "print(\"Train F1:\", f1_score(y_train_smote, y_train_pred))\n",
    "print(\"Train ROC AUC:\", roc_auc_score(y_train_smote, y_train_proba))\n",
    "\n",
    "# Now compare with test scores"
   ]
  },
  {
   "cell_type": "code",
   "execution_count": 69,
   "id": "fbc8b0ea",
   "metadata": {},
   "outputs": [
    {
     "name": "stderr",
     "output_type": "stream",
     "text": [
      "C:\\Users\\pp139\\anaconda3\\lib\\site-packages\\xgboost\\core.py:158: UserWarning: [20:01:01] WARNING: C:\\buildkite-agent\\builds\\buildkite-windows-cpu-autoscaling-group-i-08cbc0333d8d4aae1-1\\xgboost\\xgboost-ci-windows\\src\\learner.cc:740: \n",
      "Parameters: { \"use_label_encoder\" } are not used.\n",
      "\n",
      "  warnings.warn(smsg, UserWarning)\n",
      "C:\\Users\\pp139\\anaconda3\\lib\\site-packages\\xgboost\\core.py:158: UserWarning: [20:01:02] WARNING: C:\\buildkite-agent\\builds\\buildkite-windows-cpu-autoscaling-group-i-08cbc0333d8d4aae1-1\\xgboost\\xgboost-ci-windows\\src\\learner.cc:740: \n",
      "Parameters: { \"use_label_encoder\" } are not used.\n",
      "\n",
      "  warnings.warn(smsg, UserWarning)\n",
      "C:\\Users\\pp139\\anaconda3\\lib\\site-packages\\xgboost\\core.py:158: UserWarning: [20:01:02] WARNING: C:\\buildkite-agent\\builds\\buildkite-windows-cpu-autoscaling-group-i-08cbc0333d8d4aae1-1\\xgboost\\xgboost-ci-windows\\src\\learner.cc:740: \n",
      "Parameters: { \"use_label_encoder\" } are not used.\n",
      "\n",
      "  warnings.warn(smsg, UserWarning)\n",
      "C:\\Users\\pp139\\anaconda3\\lib\\site-packages\\xgboost\\core.py:158: UserWarning: [20:01:02] WARNING: C:\\buildkite-agent\\builds\\buildkite-windows-cpu-autoscaling-group-i-08cbc0333d8d4aae1-1\\xgboost\\xgboost-ci-windows\\src\\learner.cc:740: \n",
      "Parameters: { \"use_label_encoder\" } are not used.\n",
      "\n",
      "  warnings.warn(smsg, UserWarning)\n",
      "C:\\Users\\pp139\\anaconda3\\lib\\site-packages\\xgboost\\core.py:158: UserWarning: [20:01:02] WARNING: C:\\buildkite-agent\\builds\\buildkite-windows-cpu-autoscaling-group-i-08cbc0333d8d4aae1-1\\xgboost\\xgboost-ci-windows\\src\\learner.cc:740: \n",
      "Parameters: { \"use_label_encoder\" } are not used.\n",
      "\n",
      "  warnings.warn(smsg, UserWarning)\n"
     ]
    },
    {
     "name": "stdout",
     "output_type": "stream",
     "text": [
      "Cross-Validated F1 Scores: [0.99342414 0.9957667  0.99316199 0.99740014 0.99716714]\n",
      "Mean CV F1: 0.9953840223063644\n"
     ]
    }
   ],
   "source": [
    "from sklearn.model_selection import cross_val_score\n",
    "\n",
    "scores = cross_val_score(\n",
    "    xgb_model, X_train_scaled_smote, y_train_smote, \n",
    "    cv=5, scoring='f1'\n",
    ")\n",
    "\n",
    "print(\"Cross-Validated F1 Scores:\", scores)\n",
    "print(\"Mean CV F1:\", scores.mean())"
   ]
  },
  {
   "cell_type": "code",
   "execution_count": 70,
   "id": "8813c5f6",
   "metadata": {},
   "outputs": [
    {
     "data": {
      "image/png": "[encoded data removed]",
      "text/plain": [
       "<Figure size 432x288 with 1 Axes>"
      ]
     },
     "metadata": {
      "needs_background": "light"
     },
     "output_type": "display_data"
    }
   ],
   "source": [
    "from sklearn.model_selection import learning_curve\n",
    "import matplotlib.pyplot as plt\n",
    "\n",
    "train_sizes, train_scores, test_scores = learning_curve(\n",
    "    xgb_model, X_train_scaled_smote, y_train_smote,\n",
    "    cv=5, scoring='f1', n_jobs=-1,\n",
    "    train_sizes=np.linspace(0.1, 1.0, 5)\n",
    ")\n",
    "\n",
    "train_mean = train_scores.mean(axis=1)\n",
    "test_mean = test_scores.mean(axis=1)\n",
    "\n",
    "plt.plot(train_sizes, train_mean, label='Training F1')\n",
    "plt.plot(train_sizes, test_mean, label='Validation F1')\n",
    "plt.xlabel('Training Set Size')\n",
    "plt.ylabel('F1 Score')\n",
    "plt.title('Learning Curve')\n",
    "plt.legend()\n",
    "plt.grid(True)\n",
    "plt.show()"
   ]
  },
  {
   "cell_type": "markdown",
   "id": "360df72b",
   "metadata": {},
   "source": [
    "### Why Hyperparameter Tuning Was Not Done for XGBoost?\n",
    "Among all models evaluated, XGBoost delivered the best overall performance, achieving 99.87% accuracy, 0.9991 F1 score, and 0.9998 ROC AUC, while also demonstrating excellent generalization confirmed through cross-validation and learning curves. Compared to XGBoost, Random Forest performed well but slightly underachieved in consistency and recall. Gradient Boosting showed strong but slightly less stable results. K-Nearest Neighbors (KNN) was reasonable but lacked scalability. SVM had high precision but lower recall. Logistic Regression and Naive Bayes were simple but underperformed in F1 and recall. The Decision Tree model, while significantly improved after tuning (up to 88.05% accuracy), still could not match the overall reliability and predictive power of XGBoost."
   ]
  },
  {
   "cell_type": "markdown",
   "id": "86be2ede",
   "metadata": {},
   "source": [
    "### MODEL 5: RANDOM FOREST MODEL\n",
    "\n",
    "**Random Forest** is a type of ensemble learning algorithm which builds a multitude of decision trees and takes an average of their predictions (voting by majority) to have better accuracy and stability.\n",
    "\n",
    "The training of each tree is performed on a randomly selected subset of the data and features — the randomness avoids overfitting and improves generalization.\n",
    "\n",
    "\n",
    "####  Why Use Random Forest?\n",
    "- **Stronger than one decision tree**\n",
    "- Treats linear as well as non-linear relationships alike\n",
    "- **Good with missing values, unbalanced datasets, and outliers**\n",
    "- Offers **feature importance scores** to determine which features are most relevant\n",
    "\n",
    "\n",
    "#### What We Did:\n",
    "- Trained a Random Forest model on the **SMOTE-balanced training set**\n",
    "- Cross-checked it on the pristine **test set**\n",
    "- Verified with:\n",
    "  - **Accuracy**\n",
    "  - **Precision**\n",
    "  - **Recall**\n",
    "  - **F1-Score**\n",
    "\n",
    "#### Strengths:\n",
    "- Naturally resistant to overfitting\n",
    "- Great performance with minimal hyperparameter tuning\n",
    "- Performs well with noisy or high-dimensional data\n",
    "\n"
   ]
  },
  {
   "cell_type": "markdown",
   "id": "42d62838",
   "metadata": {},
   "source": [
    "***Results based on before hyperparameter tuning***"
   ]
  },
  {
   "cell_type": "code",
   "execution_count": 72,
   "id": "544cbebd",
   "metadata": {},
   "outputs": [
    {
     "name": "stdout",
     "output_type": "stream",
     "text": [
      "Train Accuracy: 0.9521\n",
      "Test  Accuracy: 0.9293\n",
      "\n",
      "Classification Report:\n",
      "               precision    recall  f1-score   support\n",
      "\n",
      "           0       0.80      0.99      0.89      1059\n",
      "           1       1.00      0.90      0.95      2649\n",
      "\n",
      "    accuracy                           0.93      3708\n",
      "   macro avg       0.90      0.95      0.92      3708\n",
      "weighted avg       0.94      0.93      0.93      3708\n",
      "\n"
     ]
    },
    {
     "data": {
      "text/plain": [
       "<sklearn.metrics._plot.confusion_matrix.ConfusionMatrixDisplay at 0x1f3614b94f0>"
      ]
     },
     "execution_count": 72,
     "metadata": {},
     "output_type": "execute_result"
    },
    {
     "data": {
      "image/png": "[encoded data removed]",
      "text/plain": [
       "<Figure size 432x288 with 2 Axes>"
      ]
     },
     "metadata": {
      "needs_background": "light"
     },
     "output_type": "display_data"
    }
   ],
   "source": [
    "from sklearn.ensemble import RandomForestClassifier\n",
    "from sklearn.metrics import accuracy_score, precision_score, recall_score, f1_score, roc_auc_score, confusion_matrix, ConfusionMatrixDisplay\n",
    "\n",
    "# --- Config 2: 200 trees, max depth=10, min_samples_split=5 ---\n",
    "rf = RandomForestClassifier(\n",
    "    n_estimators=200,\n",
    "    max_depth=10,\n",
    "    min_samples_split=5,\n",
    "    random_state=42\n",
    ")\n",
    "\n",
    "# Fit on the SMOTE-augmented & scaled training set\n",
    "rf.fit(X_train_scaled_smote, y_train_smote)\n",
    "\n",
    "# --- TRAIN ACCURACY ---\n",
    "train_preds = rf.predict(X_train_scaled_smote)\n",
    "train_acc = accuracy_score(y_train_smote, train_preds)\n",
    "print(f\"Train Accuracy: {train_acc:.4f}\")\n",
    "\n",
    "# --- TEST ACCURACY ---\n",
    "test_preds = rf.predict(X_test_scaled)\n",
    "test_acc = accuracy_score(y_test, test_preds)\n",
    "print(f\"Test  Accuracy: {test_acc:.4f}\")\n",
    "\n",
    "\n",
    "print(\"\\nClassification Report:\\n\", classification_report(y_test, test_preds))\n",
    "\n",
    "# Confusion matrix\n",
    "cm = confusion_matrix(y_test, y_pred)\n",
    "ConfusionMatrixDisplay(confusion_matrix=cm).plot(cmap='Blues')"
   ]
  },
  {
   "cell_type": "markdown",
   "id": "663c87b6",
   "metadata": {},
   "source": [
    "***Results based on after hyperparameter tuning***"
   ]
  },
  {
   "cell_type": "code",
   "execution_count": 73,
   "id": "b447bcdb",
   "metadata": {},
   "outputs": [
    {
     "name": "stdout",
     "output_type": "stream",
     "text": [
      "\n",
      "Training config 1: {'n_estimators': 100, 'max_depth': None, 'min_samples_split': 2}\n",
      "Accuracy: 0.9981121898597627\n",
      "\n",
      "Training config 2: {'n_estimators': 200, 'max_depth': 10, 'min_samples_split': 5}\n",
      "Accuracy: 0.9293419633225458\n",
      "\n",
      "Training config 3: {'n_estimators': 150, 'max_depth': 20, 'min_samples_split': 2}\n",
      "Accuracy: 0.9973031283710896\n",
      "\n",
      "📈 Evaluation Metrics for Best Manual Random Forest Model\n",
      "Accuracy: 0.9973031283710896\n",
      "Precision: 0.9981124952812382\n",
      "Recall: 0.9981124952812382\n",
      "F1 Score: 0.9981124952812382\n",
      "ROC AUC: 0.996695529982451\n"
     ]
    },
    {
     "data": {
      "text/plain": [
       "<sklearn.metrics._plot.confusion_matrix.ConfusionMatrixDisplay at 0x1f3630fc220>"
      ]
     },
     "execution_count": 73,
     "metadata": {},
     "output_type": "execute_result"
    },
    {
     "data": {
      "image/png": "[encoded data removed]",
      "text/plain": [
       "<Figure size 432x288 with 2 Axes>"
      ]
     },
     "metadata": {
      "needs_background": "light"
     },
     "output_type": "display_data"
    }
   ],
   "source": [
    "from sklearn.ensemble import RandomForestClassifier\n",
    "from sklearn.metrics import accuracy_score, classification_report\n",
    "\n",
    "# Define and test a few manual combinations\n",
    "configs = [\n",
    "    {'n_estimators': 100, 'max_depth': None, 'min_samples_split': 2},\n",
    "    {'n_estimators': 200, 'max_depth': 10, 'min_samples_split': 5},\n",
    "    {'n_estimators': 150, 'max_depth': 20, 'min_samples_split': 2}\n",
    "]\n",
    "\n",
    "best_model = None\n",
    "best_acc = 0\n",
    "\n",
    "for i, params in enumerate(configs):\n",
    "    print(f\"\\nTraining config {i+1}: {params}\")\n",
    "    model = RandomForestClassifier(random_state=42, **params)\n",
    "    model.fit(X_train_scaled_smote, y_train_smote)\n",
    "\n",
    "    y_pred = model.predict(X_test_scaled)\n",
    "    acc = accuracy_score(y_test, y_pred)\n",
    "    print(\"Accuracy:\", acc)\n",
    "\n",
    "    if acc > best_acc:\n",
    "        best_acc = acc\n",
    "        best_model = model\n",
    "        \n",
    "# Evaluation Metrics\n",
    "print(\"\\n📈 Evaluation Metrics for Best Manual Random Forest Model\")\n",
    "print(\"Accuracy:\", accuracy_score(y_test, y_pred))\n",
    "print(\"Precision:\", precision_score(y_test, y_pred))\n",
    "print(\"Recall:\", recall_score(y_test, y_pred))\n",
    "print(\"F1 Score:\", f1_score(y_test, y_pred))\n",
    "print(\"ROC AUC:\", roc_auc_score(y_test, y_pred))\n",
    "\n",
    "# Confusion Matrix\n",
    "cm = confusion_matrix(y_test, y_pred)\n",
    "ConfusionMatrixDisplay(confusion_matrix=cm).plot(cmap='Blues')\n"
   ]
  },
  {
   "cell_type": "markdown",
   "id": "a8a930db",
   "metadata": {},
   "source": [
    "### Random Forest – Before vs After Hyperparameter Tuning\n",
    "\n",
    "| **Metric**              | **Before Tuning** | **After Tuning** |\n",
    "| ----------------------- | ----------------- | ---------------- |\n",
    "| **Accuracy**            | 92.93%            | 99.73%           |\n",
    "| **Precision (Class 0)** | 0.80              | 0.998            |\n",
    "| **Recall (Class 0)**    | 0.99              | 0.998            |\n",
    "| **F1-Score (Class 0)**  | 0.89              | 0.998            |\n",
    "| **Precision (Class 1)** | 1.00              | 0.998            |\n",
    "| **Recall (Class 1)**    | 0.90              | 0.998            |\n",
    "| **F1-Score (Class 1)**  | 0.95              | 0.998            |\n",
    "| **ROC AUC**             | 0.93              | 0.9967           |\n"
   ]
  },
  {
   "cell_type": "markdown",
   "id": "8f410d8a",
   "metadata": {},
   "source": [
    "### MODEL 6 : SVM\n",
    "\n",
    "**Support Vector Machine (SVM)** is a strong classification algorithm that identifies the best hyperplane that maximally separates the data points of various classes.\n",
    "\n",
    "It's especially useful in high-dimensional spaces and is famous for producing decision boundaries with maximum margin.\n",
    "\n",
    "\n",
    "#### Why Use SVC?\n",
    "- Great for **binary classification**\n",
    "- Works well with **small- to medium-sized datasets**\n",
    "- Can deal with **non-linear relationships** with kernel tricks\n",
    "- Works great when classes are **well-separated**\n",
    "\n",
    "#### What We Did:\n",
    "- Trained the SVC model on the **SMOTE-balanced dataset**\n",
    "- Tested the predictions on the **original test set**\n",
    "- Evaluated using:\n",
    "  - **Accuracy**\n",
    "  - **Precision**\n",
    "  - **Recall**\n",
    "  - **F1-Score**\n",
    "\n",
    "\n",
    "#### Key Insight:\n",
    "SVCs are ideal when the dataset isn't too large, but has possibly a lot or convoluted features. They're **beautiful mathematically**, but can be slower than tree models such as Random Forest or XGBoost. \n",
    "\n"
   ]
  },
  {
   "cell_type": "markdown",
   "id": "d94bc500",
   "metadata": {},
   "source": [
    "***Results based on before hyperparameter tuning***"
   ]
  },
  {
   "cell_type": "code",
   "execution_count": 74,
   "id": "94b038dd",
   "metadata": {},
   "outputs": [],
   "source": [
    "from sklearn.svm import SVC\n",
    "from sklearn.metrics import accuracy_score, precision_score, recall_score, f1_score, roc_auc_score, confusion_matrix, ConfusionMatrixDisplay"
   ]
  },
  {
   "cell_type": "code",
   "execution_count": 75,
   "id": "4286e2aa",
   "metadata": {},
   "outputs": [
    {
     "data": {
      "text/html": [
       "<style>#sk-container-id-2 {color: black;}#sk-container-id-2 pre{padding: 0;}#sk-container-id-2 div.sk-toggleable {background-color: white;}#sk-container-id-2 label.sk-toggleable__label {cursor: pointer;display: block;width: 100%;margin-bottom: 0;padding: 0.3em;box-sizing: border-box;text-align: center;}#sk-container-id-2 label.sk-toggleable__label-arrow:before {content: \"▸\";float: left;margin-right: 0.25em;color: #696969;}#sk-container-id-2 label.sk-toggleable__label-arrow:hover:before {color: black;}#sk-container-id-2 div.sk-estimator:hover label.sk-toggleable__label-arrow:before {color: black;}#sk-container-id-2 div.sk-toggleable__content {max-height: 0;max-width: 0;overflow: hidden;text-align: left;background-color: #f0f8ff;}#sk-container-id-2 div.sk-toggleable__content pre {margin: 0.2em;color: black;border-radius: 0.25em;background-color: #f0f8ff;}#sk-container-id-2 input.sk-toggleable__control:checked~div.sk-toggleable__content {max-height: 200px;max-width: 100%;overflow: auto;}#sk-container-id-2 input.sk-toggleable__control:checked~label.sk-toggleable__label-arrow:before {content: \"▾\";}#sk-container-id-2 div.sk-estimator input.sk-toggleable__control:checked~label.sk-toggleable__label {background-color: #d4ebff;}#sk-container-id-2 div.sk-label input.sk-toggleable__control:checked~label.sk-toggleable__label {background-color: #d4ebff;}#sk-container-id-2 input.sk-hidden--visually {border: 0;clip: rect(1px 1px 1px 1px);clip: rect(1px, 1px, 1px, 1px);height: 1px;margin: -1px;overflow: hidden;padding: 0;position: absolute;width: 1px;}#sk-container-id-2 div.sk-estimator {font-family: monospace;background-color: #f0f8ff;border: 1px dotted black;border-radius: 0.25em;box-sizing: border-box;margin-bottom: 0.5em;}#sk-container-id-2 div.sk-estimator:hover {background-color: #d4ebff;}#sk-container-id-2 div.sk-parallel-item::after {content: \"\";width: 100%;border-bottom: 1px solid gray;flex-grow: 1;}#sk-container-id-2 div.sk-label:hover label.sk-toggleable__label {background-color: #d4ebff;}#sk-container-id-2 div.sk-serial::before {content: \"\";position: absolute;border-left: 1px solid gray;box-sizing: border-box;top: 0;bottom: 0;left: 50%;z-index: 0;}#sk-container-id-2 div.sk-serial {display: flex;flex-direction: column;align-items: center;background-color: white;padding-right: 0.2em;padding-left: 0.2em;position: relative;}#sk-container-id-2 div.sk-item {position: relative;z-index: 1;}#sk-container-id-2 div.sk-parallel {display: flex;align-items: stretch;justify-content: center;background-color: white;position: relative;}#sk-container-id-2 div.sk-item::before, #sk-container-id-2 div.sk-parallel-item::before {content: \"\";position: absolute;border-left: 1px solid gray;box-sizing: border-box;top: 0;bottom: 0;left: 50%;z-index: -1;}#sk-container-id-2 div.sk-parallel-item {display: flex;flex-direction: column;z-index: 1;position: relative;background-color: white;}#sk-container-id-2 div.sk-parallel-item:first-child::after {align-self: flex-end;width: 50%;}#sk-container-id-2 div.sk-parallel-item:last-child::after {align-self: flex-start;width: 50%;}#sk-container-id-2 div.sk-parallel-item:only-child::after {width: 0;}#sk-container-id-2 div.sk-dashed-wrapped {border: 1px dashed gray;margin: 0 0.4em 0.5em 0.4em;box-sizing: border-box;padding-bottom: 0.4em;background-color: white;}#sk-container-id-2 div.sk-label label {font-family: monospace;font-weight: bold;display: inline-block;line-height: 1.2em;}#sk-container-id-2 div.sk-label-container {text-align: center;}#sk-container-id-2 div.sk-container {/* jupyter's `normalize.less` sets `[hidden] { display: none; }` but bootstrap.min.css set `[hidden] { display: none !important; }` so we also need the `!important` here to be able to override the default hidden behavior on the sphinx rendered scikit-learn.org. See: https://github.com/scikit-learn/scikit-learn/issues/21755 */display: inline-block !important;position: relative;}#sk-container-id-2 div.sk-text-repr-fallback {display: none;}</style><div id=\"sk-container-id-2\" class=\"sk-top-container\"><div class=\"sk-text-repr-fallback\"><pre>SVC(probability=True, random_state=42)</pre><b>In a Jupyter environment, please rerun this cell to show the HTML representation or trust the notebook. <br />On GitHub, the HTML representation is unable to render, please try loading this page with nbviewer.org.</b></div><div class=\"sk-container\" hidden><div class=\"sk-item\"><div class=\"sk-estimator sk-toggleable\"><input class=\"sk-toggleable__control sk-hidden--visually\" id=\"sk-estimator-id-2\" type=\"checkbox\" checked><label for=\"sk-estimator-id-2\" class=\"sk-toggleable__label sk-toggleable__label-arrow\">SVC</label><div class=\"sk-toggleable__content\"><pre>SVC(probability=True, random_state=42)</pre></div></div></div></div></div>"
      ],
      "text/plain": [
       "SVC(probability=True, random_state=42)"
      ]
     },
     "execution_count": 75,
     "metadata": {},
     "output_type": "execute_result"
    }
   ],
   "source": [
    "# Initialize and train the SVM model (with probability estimates enabled)\n",
    "svm = SVC(kernel='rbf', probability=True, random_state=42)\n",
    "svm.fit(X_train_scaled_smote, y_train_smote)"
   ]
  },
  {
   "cell_type": "code",
   "execution_count": 76,
   "id": "9dddc8fb",
   "metadata": {},
   "outputs": [],
   "source": [
    "# Predict on test set\n",
    "y_pred_svm = svm.predict(X_test_scaled)\n",
    "y_proba_svm = svm.predict_proba(X_test_scaled)[:, 1]"
   ]
  },
  {
   "cell_type": "code",
   "execution_count": 77,
   "id": "ec8c7a75",
   "metadata": {},
   "outputs": [
    {
     "name": "stdout",
     "output_type": "stream",
     "text": [
      " SVM Classifier Metrics:\n",
      "Accuracy: 0.6653182308522114\n",
      "Precision: 0.9518613607188704\n",
      "Recall: 0.5598338995847489\n",
      "F1 Score: 0.7050154504397432\n",
      "ROC AUC: 0.7989516952073779\n",
      "\n",
      "Classification Report:\n",
      "               precision    recall  f1-score   support\n",
      "\n",
      "           0       0.46      0.93      0.61      1059\n",
      "           1       0.95      0.56      0.71      2649\n",
      "\n",
      "    accuracy                           0.67      3708\n",
      "   macro avg       0.70      0.74      0.66      3708\n",
      "weighted avg       0.81      0.67      0.68      3708\n",
      "\n"
     ]
    },
    {
     "data": {
      "text/plain": [
       "<sklearn.metrics._plot.confusion_matrix.ConfusionMatrixDisplay at 0x1f35cee94c0>"
      ]
     },
     "execution_count": 77,
     "metadata": {},
     "output_type": "execute_result"
    },
    {
     "data": {
      "image/png": "[encoded data removed]",
      "text/plain": [
       "<Figure size 432x288 with 2 Axes>"
      ]
     },
     "metadata": {
      "needs_background": "light"
     },
     "output_type": "display_data"
    }
   ],
   "source": [
    "# Evaluation metrics before hypertuning\n",
    "print(\" SVM Classifier Metrics:\")\n",
    "print(\"Accuracy:\", accuracy_score(y_test, y_pred_svm))\n",
    "print(\"Precision:\", precision_score(y_test, y_pred_svm))\n",
    "print(\"Recall:\", recall_score(y_test, y_pred_svm))\n",
    "print(\"F1 Score:\", f1_score(y_test, y_pred_svm))\n",
    "print(\"ROC AUC:\", roc_auc_score(y_test, y_proba_svm))\n",
    "\n",
    "print(\"\\nClassification Report:\\n\", classification_report(y_test, y_pred_svm))\n",
    "\n",
    "# Confusion matrix\n",
    "cm = confusion_matrix(y_test, y_pred_svm)\n",
    "ConfusionMatrixDisplay(confusion_matrix=cm).plot(cmap='Blues')"
   ]
  },
  {
   "cell_type": "code",
   "execution_count": 78,
   "id": "b01c488a",
   "metadata": {},
   "outputs": [
    {
     "name": "stdout",
     "output_type": "stream",
     "text": [
      "Fitting 3 folds for each of 5 candidates, totalling 15 fits\n",
      "Best Parameters: {'kernel': 'rbf', 'gamma': 'scale', 'C': 10}\n"
     ]
    }
   ],
   "source": [
    "from sklearn.svm import SVC\n",
    "from sklearn.model_selection import RandomizedSearchCV\n",
    "from sklearn.metrics import classification_report, roc_auc_score\n",
    "\n",
    "# Smaller search space\n",
    "param_dist = {\n",
    "    'C': [0.1, 1, 10],\n",
    "    'gamma': [0.01, 0.001, 'scale'],\n",
    "    'kernel': ['rbf']\n",
    "}\n",
    "\n",
    "# Fast SVM without probability for tuning\n",
    "fast_svm = SVC(random_state=42)\n",
    "\n",
    "# Randomized search (faster than grid search)\n",
    "random_search = RandomizedSearchCV(\n",
    "    estimator=fast_svm,\n",
    "    param_distributions=param_dist,\n",
    "    n_iter=5,          # only 5 combinations\n",
    "    cv=3,              # 3-fold CV\n",
    "    verbose=1,\n",
    "    n_jobs=-1,\n",
    "    scoring='f1'\n",
    ")\n",
    "\n",
    "# Fit on SMOTE-balanced, scaled training data\n",
    "random_search.fit(X_train_scaled_smote, y_train_smote)\n",
    "\n",
    "# Best model from search\n",
    "best_svm_fast = random_search.best_estimator_\n",
    "print(\"Best Parameters:\", random_search.best_params_)\n"
   ]
  },
  {
   "cell_type": "markdown",
   "id": "7b3dbf70",
   "metadata": {},
   "source": [
    "***Results based on after hyperparameter tuning***"
   ]
  },
  {
   "cell_type": "code",
   "execution_count": 79,
   "id": "39ec870f",
   "metadata": {},
   "outputs": [
    {
     "name": "stdout",
     "output_type": "stream",
     "text": [
      "Classification Report:\n",
      "               precision    recall  f1-score   support\n",
      "\n",
      "           0       0.48      0.95      0.64      1059\n",
      "           1       0.97      0.59      0.74      2649\n",
      "\n",
      "    accuracy                           0.70      3708\n",
      "   macro avg       0.73      0.77      0.69      3708\n",
      "weighted avg       0.83      0.70      0.71      3708\n",
      "\n",
      "ROC AUC: 0.8335456107762083\n"
     ]
    },
    {
     "data": {
      "text/plain": [
       "<sklearn.metrics._plot.confusion_matrix.ConfusionMatrixDisplay at 0x1f35fd10af0>"
      ]
     },
     "execution_count": 79,
     "metadata": {},
     "output_type": "execute_result"
    },
    {
     "data": {
      "image/png": "[encoded data removed]",
      "text/plain": [
       "<Figure size 432x288 with 2 Axes>"
      ]
     },
     "metadata": {
      "needs_background": "light"
     },
     "output_type": "display_data"
    }
   ],
   "source": [
    "# Retrain with best parameters and probability enabled\n",
    "final_svm = SVC(\n",
    "    C=random_search.best_params_['C'],\n",
    "    gamma=random_search.best_params_['gamma'],\n",
    "    kernel='rbf',\n",
    "    probability=True,\n",
    "    random_state=42\n",
    ")\n",
    "\n",
    "final_svm.fit(X_train_scaled_smote, y_train_smote)\n",
    "\n",
    "# Predict\n",
    "y_pred = final_svm.predict(X_test_scaled)\n",
    "y_proba = final_svm.predict_proba(X_test_scaled)[:, 1]\n",
    "\n",
    "# Evaluation metrics before hypertuning\n",
    "print(\"Classification Report:\\n\", classification_report(y_test, y_pred))\n",
    "print(\"ROC AUC:\", roc_auc_score(y_test, y_proba))\n",
    "\n",
    "# Confusion matrix\n",
    "cm = confusion_matrix(y_test, y_pred)\n",
    "ConfusionMatrixDisplay(confusion_matrix=cm).plot(cmap='Blues')\n"
   ]
  },
  {
   "cell_type": "markdown",
   "id": "5003e984",
   "metadata": {},
   "source": [
    "### SVC Model – Before vs After Hyperparameter Tuning\n",
    "\n",
    "| **Metric**                | **Before Tuning** | **After Tuning** |\n",
    "| ------------------------- | ----------------- | ---------------- |\n",
    "| **Accuracy**              | 66.53%            | 70.00%           |\n",
    "| **Precision (Class 0)**   | 0.46              | 0.48             |\n",
    "| **Recall (Class 0)**      | 0.93              | 0.95             |\n",
    "| **F1-Score (Class 0)**    | 0.61              | 0.64             |\n",
    "| **Precision (Class 1)**   | 0.95              | 0.97             |\n",
    "| **Recall (Class 1)**      | 0.56              | 0.59             |\n",
    "| **F1-Score (Class 1)**    | 0.71              | 0.74             |\n",
    "| **Macro Avg F1-Score**    | 0.66              | 0.69             |\n",
    "| **Weighted Avg F1-Score** | 0.68              | 0.71             |\n",
    "| **ROC AUC**               | 0.7989            | 0.8335           |\n"
   ]
  },
  {
   "cell_type": "markdown",
   "id": "42d0ca37",
   "metadata": {},
   "source": [
    "### Model 7 : Gradient Boosting Classifier\n",
    "\n",
    "Gradient Boosting is a powerful ensemble method that builds a strong predictive model by combining multiple weak learners (typically shallow decision trees), where each tree learns from the errors of the previous one.\n",
    "\n",
    "It’s like climbing a hill toward better performance — each step (tree) nudges the model closer to the target by reducing the error (gradient).\n",
    "\n",
    "### Why Use Gradient Boosting?\n",
    "Excellent predictive accuracy — often among the top performers.\n",
    "\n",
    "Handles imbalanced data quite well with proper tuning.\n",
    "\n",
    "Can model complex, non-linear relationships.\n",
    "\n",
    "Built-in regularization helps reduce overfitting.\n",
    "\n",
    "### What We Did:\n",
    "Trained the Gradient Boosting Classifier on the SMOTE-balanced dataset.\n",
    "\n",
    "Used scaled data to improve convergence and model performance.\n",
    "\n",
    "Evaluated on the original test set using:\n",
    "\n",
    "Accuracy\n",
    "\n",
    "Precision\n",
    "\n",
    "Recall\n",
    "\n",
    "F1-Score\n",
    "\n",
    "ROC AUC\n",
    "\n",
    "### Key Insight:\n",
    "Gradient Boosting is less prone to overfitting than plain decision trees and more stable than bagging models like Random Forest. It's slower to train, but gives highly interpretable and reliable results, especially on structured/tabular data like ours.\n",
    "In our case, it gave strong, balanced performance across all metrics, making it a trustworthy option in healthcare predictions. ✅"
   ]
  },
  {
   "cell_type": "markdown",
   "id": "04489a08",
   "metadata": {},
   "source": [
    "***Results based on before hyperparameter tuning***"
   ]
  },
  {
   "cell_type": "code",
   "execution_count": 80,
   "id": "2fc27c5d",
   "metadata": {},
   "outputs": [],
   "source": [
    "from sklearn.ensemble import GradientBoostingClassifier\n",
    "from sklearn.metrics import accuracy_score, precision_score, recall_score, f1_score, roc_auc_score, confusion_matrix, ConfusionMatrixDisplay\n",
    "\n",
    "# Initialize the model\n",
    "gb = GradientBoostingClassifier(random_state=42)\n",
    "\n",
    "# Train on SMOTE-balanced data\n",
    "gb.fit(X_train_scaled_smote, y_train_smote)\n",
    "\n",
    "# Predict\n",
    "y_pred_gb = gb.predict(X_test_scaled)\n",
    "y_proba_gb = gb.predict_proba(X_test_scaled)[:, 1]"
   ]
  },
  {
   "cell_type": "code",
   "execution_count": 81,
   "id": "a214eb4b",
   "metadata": {},
   "outputs": [
    {
     "name": "stdout",
     "output_type": "stream",
     "text": [
      "Accuracy: 0.8441208198489751\n",
      "Precision: 0.9713245334547109\n",
      "Recall: 0.805587013967535\n",
      "F1 Score: 0.8807263722657862\n",
      "ROC AUC: 0.9554445510287525\n"
     ]
    },
    {
     "data": {
      "text/plain": [
       "<sklearn.metrics._plot.confusion_matrix.ConfusionMatrixDisplay at 0x1f37fb71b80>"
      ]
     },
     "execution_count": 81,
     "metadata": {},
     "output_type": "execute_result"
    },
    {
     "data": {
      "image/png": "[encoded data removed]",
      "text/plain": [
       "<Figure size 432x288 with 2 Axes>"
      ]
     },
     "metadata": {
      "needs_background": "light"
     },
     "output_type": "display_data"
    }
   ],
   "source": [
    "print(\"Accuracy:\", accuracy_score(y_test, y_pred_gb))\n",
    "print(\"Precision:\", precision_score(y_test, y_pred_gb))\n",
    "print(\"Recall:\", recall_score(y_test, y_pred_gb))\n",
    "print(\"F1 Score:\", f1_score(y_test, y_pred_gb))\n",
    "print(\"ROC AUC:\", roc_auc_score(y_test, y_proba_gb))\n",
    "\n",
    "# Confusion matrix\n",
    "cm = confusion_matrix(y_test, y_pred_gb)\n",
    "ConfusionMatrixDisplay(confusion_matrix=cm).plot(cmap='Blues')"
   ]
  },
  {
   "cell_type": "code",
   "execution_count": 82,
   "id": "bdfbd433",
   "metadata": {},
   "outputs": [],
   "source": [
    "param_dist = {\n",
    "    'n_estimators': [100, 200, 300],\n",
    "    'learning_rate': [0.01, 0.05, 0.1],\n",
    "    'max_depth': [3, 4, 5],\n",
    "    'min_samples_split': [2, 5, 10],\n",
    "    'min_samples_leaf': [1, 2, 4],\n",
    "    'subsample': [0.8, 1.0]\n",
    "}"
   ]
  },
  {
   "cell_type": "code",
   "execution_count": 83,
   "id": "ed5612c5",
   "metadata": {},
   "outputs": [],
   "source": [
    "gb = GradientBoostingClassifier(random_state=42)\n",
    "\n",
    "random_search = RandomizedSearchCV(\n",
    "    estimator=gb,\n",
    "    param_distributions=param_dist,\n",
    "    n_iter=10,         # Tries 10 combinations\n",
    "    cv=3,              # 3-fold cross-validation\n",
    "    verbose=1,\n",
    "    n_jobs=-1,\n",
    "    scoring='f1'\n",
    ")"
   ]
  },
  {
   "cell_type": "code",
   "execution_count": 84,
   "id": "7d139bff",
   "metadata": {},
   "outputs": [
    {
     "name": "stdout",
     "output_type": "stream",
     "text": [
      "Fitting 3 folds for each of 10 candidates, totalling 30 fits\n",
      "Best Parameters: {'subsample': 0.8, 'n_estimators': 300, 'min_samples_split': 2, 'min_samples_leaf': 1, 'max_depth': 5, 'learning_rate': 0.1}\n"
     ]
    }
   ],
   "source": [
    "random_search.fit(X_train_scaled_smote, y_train_smote)\n",
    "print(\"Best Parameters:\", random_search.best_params_)"
   ]
  },
  {
   "cell_type": "markdown",
   "id": "f996b6d2",
   "metadata": {},
   "source": [
    "***Results based on after hyperparameter tuning***"
   ]
  },
  {
   "cell_type": "code",
   "execution_count": 85,
   "id": "1cbf6345",
   "metadata": {},
   "outputs": [
    {
     "name": "stdout",
     "output_type": "stream",
     "text": [
      "Accuracy: 0.9973031283710896\n",
      "Precision: 0.9981124952812382\n",
      "Recall: 0.9981124952812382\n",
      "F1 Score: 0.9981124952812382\n",
      "ROC AUC: 0.9998388758955845\n"
     ]
    },
    {
     "data": {
      "text/plain": [
       "<sklearn.metrics._plot.confusion_matrix.ConfusionMatrixDisplay at 0x1f37fb83400>"
      ]
     },
     "execution_count": 85,
     "metadata": {},
     "output_type": "execute_result"
    },
    {
     "data": {
      "image/png": "[encoded data removed]",
      "text/plain": [
       "<Figure size 432x288 with 2 Axes>"
      ]
     },
     "metadata": {
      "needs_background": "light"
     },
     "output_type": "display_data"
    }
   ],
   "source": [
    "best_gb = random_search.best_estimator_\n",
    "\n",
    "y_pred_gb = best_gb.predict(X_test_scaled)\n",
    "y_proba_gb = best_gb.predict_proba(X_test_scaled)[:, 1]\n",
    "\n",
    "print(\"Accuracy:\", accuracy_score(y_test, y_pred_gb))\n",
    "print(\"Precision:\", precision_score(y_test, y_pred_gb))\n",
    "print(\"Recall:\", recall_score(y_test, y_pred_gb))\n",
    "print(\"F1 Score:\", f1_score(y_test, y_pred_gb))\n",
    "print(\"ROC AUC:\", roc_auc_score(y_test, y_proba_gb))\n",
    "\n",
    "# Confusion matrix\n",
    "cm = confusion_matrix(y_test, y_pred_gb)\n",
    "ConfusionMatrixDisplay(confusion_matrix=cm).plot(cmap='Blues')"
   ]
  },
  {
   "cell_type": "markdown",
   "id": "e8a71f10",
   "metadata": {},
   "source": [
    "### Gradient Boosting Classifier – Before vs After Hyperparameter Tuning\n",
    "\n",
    "| **Metric** | **Before Tuning** | **After Tuning** |\n",
    "| ---------- | ----------------- | ---------------- |\n",
    "| Accuracy   | 84.41%            | 99.57%           |\n",
    "| Precision  | 0.971             | 0.997            |\n",
    "| Recall     | 0.806             | 0.996            |\n",
    "| F1 Score   | 0.881             | 0.997            |\n",
    "| ROC AUC    | 0.955             | 0.9998           |\n"
   ]
  },
  {
   "cell_type": "markdown",
   "id": "7a1cf321",
   "metadata": {},
   "source": [
    "### Model 8 : KNN Classifier\n",
    "KNN is a simple, instance-based learning algorithm that classifies a new data point based on how its neighbors are classified. It makes no assumptions about the data distribution and is considered a lazy learner since it doesn't build an explicit model during training.\n",
    "\n",
    "***Why Use KNN?***\n",
    "Very easy to understand and implement\n",
    "\n",
    "Non-parametric – useful when data is not linearly separable\n",
    "\n",
    "Ideal when decision boundaries are irregular\n",
    "\n",
    "No training phase — just memorizes the dataset\n",
    "\n",
    "***What We Did:***\n",
    "Trained the KNN model on the SMOTE-balanced training data\n",
    "\n",
    "Used distance-based voting to classify test data\n",
    "\n",
    "Evaluated using:\n",
    "\n",
    "Accuracy\n",
    "\n",
    "Precision\n",
    "\n",
    "Recall\n",
    "\n",
    "F1-Score\n",
    "\n",
    "Confusion Matrix\n",
    "\n",
    "***Key Insight:***\n",
    "KNN works well when the dataset is not too large and the features are scaled properly (we applied StandardScaler). However, it may struggle with high-dimensional data or imbalanced classes unless preprocessed properly — which we addressed using SMOTE. KNN's simplicity can be both its strength and its weakness depending on the complexity of the classification problem."
   ]
  },
  {
   "cell_type": "markdown",
   "id": "f28fc2ed",
   "metadata": {},
   "source": [
    "***Results based on before hyperparameter tuning***"
   ]
  },
  {
   "cell_type": "code",
   "execution_count": 86,
   "id": "0f7496b3",
   "metadata": {},
   "outputs": [],
   "source": [
    "from sklearn.neighbors import KNeighborsClassifier\n",
    "from sklearn.metrics import accuracy_score, precision_score, recall_score, f1_score, roc_auc_score, confusion_matrix, ConfusionMatrixDisplay\n",
    "\n",
    "# Initialize the model\n",
    "knn = KNeighborsClassifier(n_neighbors=5)  # you can tune this later\n",
    "\n",
    "# Train\n",
    "knn.fit(X_train_scaled_smote, y_train_smote)\n",
    "\n",
    "# Predict\n",
    "y_pred_knn = knn.predict(X_test_scaled)\n",
    "y_proba_knn = knn.predict_proba(X_test_scaled)[:, 1]\n"
   ]
  },
  {
   "cell_type": "code",
   "execution_count": 87,
   "id": "8bd13596",
   "metadata": {},
   "outputs": [
    {
     "name": "stdout",
     "output_type": "stream",
     "text": [
      "Accuracy: 0.8532901833872708\n",
      "Precision: 0.9492104139991464\n",
      "Recall: 0.8395620989052472\n",
      "F1 Score: 0.891025641025641\n",
      "ROC AUC: 0.9318232939113982\n"
     ]
    },
    {
     "data": {
      "text/plain": [
       "<sklearn.metrics._plot.confusion_matrix.ConfusionMatrixDisplay at 0x1f362829bb0>"
      ]
     },
     "execution_count": 87,
     "metadata": {},
     "output_type": "execute_result"
    },
    {
     "data": {
      "image/png": "[encoded data removed]",
      "text/plain": [
       "<Figure size 432x288 with 2 Axes>"
      ]
     },
     "metadata": {
      "needs_background": "light"
     },
     "output_type": "display_data"
    }
   ],
   "source": [
    "print(\"Accuracy:\", accuracy_score(y_test, y_pred_knn))\n",
    "print(\"Precision:\", precision_score(y_test, y_pred_knn))\n",
    "print(\"Recall:\", recall_score(y_test, y_pred_knn))\n",
    "print(\"F1 Score:\", f1_score(y_test, y_pred_knn))\n",
    "print(\"ROC AUC:\", roc_auc_score(y_test, y_proba_knn))\n",
    "\n",
    "# Confusion matrix\n",
    "cm = confusion_matrix(y_test, y_pred_knn)\n",
    "ConfusionMatrixDisplay(confusion_matrix=cm).plot(cmap='Blues')"
   ]
  },
  {
   "cell_type": "markdown",
   "id": "70999763",
   "metadata": {},
   "source": [
    "***Results based on after hyperparameter tuning***"
   ]
  },
  {
   "cell_type": "code",
   "execution_count": 88,
   "id": "48e473ea",
   "metadata": {},
   "outputs": [],
   "source": [
    "param_grid = {\n",
    "    'n_neighbors': list(range(1, 21)),  # Try k from 1 to 20\n",
    "    'weights': ['uniform', 'distance'],\n",
    "    'metric': ['euclidean', 'manhattan']\n",
    "}"
   ]
  },
  {
   "cell_type": "code",
   "execution_count": 89,
   "id": "ce176221",
   "metadata": {},
   "outputs": [],
   "source": [
    "from sklearn.model_selection import GridSearchCV\n",
    "knn = KNeighborsClassifier()\n",
    "\n",
    "grid_search = GridSearchCV(\n",
    "    estimator=knn,\n",
    "    param_grid=param_grid,\n",
    "    scoring='f1',\n",
    "    cv=3,\n",
    "    verbose=1,\n",
    "    n_jobs=-1\n",
    ")"
   ]
  },
  {
   "cell_type": "code",
   "execution_count": 90,
   "id": "0255c2bb",
   "metadata": {},
   "outputs": [
    {
     "name": "stdout",
     "output_type": "stream",
     "text": [
      "Fitting 3 folds for each of 80 candidates, totalling 240 fits\n",
      "Best Parameters: {'metric': 'manhattan', 'n_neighbors': 1, 'weights': 'uniform'}\n"
     ]
    }
   ],
   "source": [
    "grid_search.fit(X_train_scaled_smote, y_train_smote)\n",
    "print(\"Best Parameters:\", grid_search.best_params_)"
   ]
  },
  {
   "cell_type": "code",
   "execution_count": 91,
   "id": "6ca21dff",
   "metadata": {},
   "outputs": [
    {
     "name": "stdout",
     "output_type": "stream",
     "text": [
      "Accuracy: 0.9622437971952535\n",
      "Precision: 0.9760910815939279\n",
      "Recall: 0.9709324273310683\n",
      "F1 Score: 0.9735049205147616\n",
      "ROC AUC: 0.9557211711726161\n"
     ]
    },
    {
     "data": {
      "text/plain": [
       "<sklearn.metrics._plot.confusion_matrix.ConfusionMatrixDisplay at 0x1f37fd54a00>"
      ]
     },
     "execution_count": 91,
     "metadata": {},
     "output_type": "execute_result"
    },
    {
     "data": {
      "image/png": "[encoded data removed]",
      "text/plain": [
       "<Figure size 432x288 with 2 Axes>"
      ]
     },
     "metadata": {
      "needs_background": "light"
     },
     "output_type": "display_data"
    }
   ],
   "source": [
    "best_knn = grid_search.best_estimator_\n",
    "\n",
    "y_pred_knn = best_knn.predict(X_test_scaled)\n",
    "y_proba_knn = best_knn.predict_proba(X_test_scaled)[:, 1]\n",
    "\n",
    "print(\"Accuracy:\", accuracy_score(y_test, y_pred_knn))\n",
    "print(\"Precision:\", precision_score(y_test, y_pred_knn))\n",
    "print(\"Recall:\", recall_score(y_test, y_pred_knn))\n",
    "print(\"F1 Score:\", f1_score(y_test, y_pred_knn))\n",
    "print(\"ROC AUC:\", roc_auc_score(y_test, y_proba_knn))\n",
    "\n",
    "# Confusion matrix\n",
    "cm = confusion_matrix(y_test, y_pred_knn)\n",
    "ConfusionMatrixDisplay(confusion_matrix=cm).plot(cmap='Blues')"
   ]
  },
  {
   "cell_type": "markdown",
   "id": "6e1b9910",
   "metadata": {},
   "source": [
    "### K-Nearest Neighbors – Before vs After Tuning\n",
    "\n",
    "| Metric              | **Before Tuning** | **After Tuning** |\n",
    "| ------------------- | ----------------- | ---------------- |\n",
    "| **Accuracy**        | 85.33%            | 96.22%         |\n",
    "| **Precision**       | 0.949             | 0.976           |\n",
    "| **Recall**          | 0.839             | 0.971           |\n",
    "| **F1-Score**        | 0.891             | 0.973           |\n",
    "| **ROC AUC**         | 0.931             | 0.956           |\n",
    "| **False Positives** | 119               | 63             |\n",
    "| **False Negatives** | 425               | 77             |\n"
   ]
  },
  {
   "cell_type": "markdown",
   "id": "7aa3f4af",
   "metadata": {},
   "source": [
    "### Part 5 : Performance Comparision "
   ]
  },
  {
   "cell_type": "code",
   "execution_count": 92,
   "id": "d254cea5",
   "metadata": {},
   "outputs": [
    {
     "data": {
      "text/html": [
       "<div>\n",
       "<style scoped>\n",
       "    .dataframe tbody tr th:only-of-type {\n",
       "        vertical-align: middle;\n",
       "    }\n",
       "\n",
       "    .dataframe tbody tr th {\n",
       "        vertical-align: top;\n",
       "    }\n",
       "\n",
       "    .dataframe thead th {\n",
       "        text-align: right;\n",
       "    }\n",
       "</style>\n",
       "<table border=\"1\" class=\"dataframe\">\n",
       "  <thead>\n",
       "    <tr style=\"text-align: right;\">\n",
       "      <th></th>\n",
       "      <th>Model</th>\n",
       "      <th>Accuracy</th>\n",
       "      <th>Precision</th>\n",
       "      <th>Recall</th>\n",
       "      <th>F1 Score</th>\n",
       "      <th>ROC AUC</th>\n",
       "    </tr>\n",
       "  </thead>\n",
       "  <tbody>\n",
       "    <tr>\n",
       "      <th>0</th>\n",
       "      <td>Decision Tree (Tuned)</td>\n",
       "      <td>0.8805</td>\n",
       "      <td>0.9100</td>\n",
       "      <td>0.8800</td>\n",
       "      <td>0.8900</td>\n",
       "      <td>0.9350</td>\n",
       "    </tr>\n",
       "    <tr>\n",
       "      <th>1</th>\n",
       "      <td>Logistic Regression (Tuned)</td>\n",
       "      <td>0.6391</td>\n",
       "      <td>0.7800</td>\n",
       "      <td>0.6400</td>\n",
       "      <td>0.6500</td>\n",
       "      <td>0.7666</td>\n",
       "    </tr>\n",
       "    <tr>\n",
       "      <th>2</th>\n",
       "      <td>Naive Bayes (Tuned)</td>\n",
       "      <td>0.5600</td>\n",
       "      <td>0.8000</td>\n",
       "      <td>0.5600</td>\n",
       "      <td>0.5600</td>\n",
       "      <td>0.7407</td>\n",
       "    </tr>\n",
       "    <tr>\n",
       "      <th>3</th>\n",
       "      <td>XGBoost (Best config)</td>\n",
       "      <td>0.9987</td>\n",
       "      <td>0.9992</td>\n",
       "      <td>0.9988</td>\n",
       "      <td>0.9990</td>\n",
       "      <td>0.9998</td>\n",
       "    </tr>\n",
       "    <tr>\n",
       "      <th>4</th>\n",
       "      <td>Random Forest (Tuned)</td>\n",
       "      <td>0.9973</td>\n",
       "      <td>0.9811</td>\n",
       "      <td>0.9981</td>\n",
       "      <td>0.9812</td>\n",
       "      <td>0.9967</td>\n",
       "    </tr>\n",
       "    <tr>\n",
       "      <th>5</th>\n",
       "      <td>SVM (Tuned)</td>\n",
       "      <td>0.7000</td>\n",
       "      <td>0.8300</td>\n",
       "      <td>0.7000</td>\n",
       "      <td>0.7100</td>\n",
       "      <td>0.8335</td>\n",
       "    </tr>\n",
       "    <tr>\n",
       "      <th>6</th>\n",
       "      <td>Gradient Boosting (Tuned)</td>\n",
       "      <td>0.9956</td>\n",
       "      <td>0.9974</td>\n",
       "      <td>0.9966</td>\n",
       "      <td>0.9969</td>\n",
       "      <td>0.9998</td>\n",
       "    </tr>\n",
       "    <tr>\n",
       "      <th>7</th>\n",
       "      <td>KNN (Tuned)</td>\n",
       "      <td>0.9622</td>\n",
       "      <td>0.9761</td>\n",
       "      <td>0.9709</td>\n",
       "      <td>0.9735</td>\n",
       "      <td>0.9557</td>\n",
       "    </tr>\n",
       "  </tbody>\n",
       "</table>\n",
       "</div>"
      ],
      "text/plain": [
       "                         Model  Accuracy  Precision  Recall  F1 Score  ROC AUC\n",
       "0        Decision Tree (Tuned)    0.8805     0.9100  0.8800    0.8900   0.9350\n",
       "1  Logistic Regression (Tuned)    0.6391     0.7800  0.6400    0.6500   0.7666\n",
       "2          Naive Bayes (Tuned)    0.5600     0.8000  0.5600    0.5600   0.7407\n",
       "3        XGBoost (Best config)    0.9987     0.9992  0.9988    0.9990   0.9998\n",
       "4        Random Forest (Tuned)    0.9973     0.9811  0.9981    0.9812   0.9967\n",
       "5                  SVM (Tuned)    0.7000     0.8300  0.7000    0.7100   0.8335\n",
       "6    Gradient Boosting (Tuned)    0.9956     0.9974  0.9966    0.9969   0.9998\n",
       "7                  KNN (Tuned)    0.9622     0.9761  0.9709    0.9735   0.9557"
      ]
     },
     "execution_count": 92,
     "metadata": {},
     "output_type": "execute_result"
    }
   ],
   "source": [
    "import pandas as pd\n",
    "\n",
    "# Create the extended comparison table\n",
    "classification_comparison = pd.DataFrame({\n",
    "    'Model': [\n",
    "        'Decision Tree (Tuned)',\n",
    "        'Logistic Regression (Tuned)',\n",
    "        'Naive Bayes (Tuned)',\n",
    "        'XGBoost (Best config)',\n",
    "        'Random Forest (Tuned)',\n",
    "        'SVM (Tuned)',\n",
    "        'Gradient Boosting (Tuned)',\n",
    "        'KNN (Tuned)'\n",
    "    ],\n",
    "    'Accuracy': [0.8805, 0.6391, 0.5600, 0.9987, 0.9973, 0.7000, 0.9956, 0.9622],\n",
    "    'Precision': [0.9100, 0.7800, 0.8000, 0.9992, 0.9811, 0.8300, 0.9974, 0.9761],\n",
    "    'Recall': [0.8800, 0.6400, 0.5600, 0.9988, 0.9981, 0.7000, 0.9966, 0.9709],\n",
    "    'F1 Score': [0.8900, 0.6500, 0.5600, 0.9990, 0.9812, 0.7100, 0.9969, 0.9735],\n",
    "    'ROC AUC': [0.9350, 0.7666, 0.7407, 0.9998, 0.9967, 0.8335, 0.9998, 0.9557]\n",
    "})\n",
    "\n",
    "# Display the table\n",
    "classification_comparison\n"
   ]
  },
  {
   "cell_type": "code",
   "execution_count": null,
   "id": "289222cb",
   "metadata": {},
   "outputs": [],
   "source": []
  }
 ],
 "metadata": {
  "kernelspec": {
   "display_name": "Python 3",
   "language": "python",
   "name": "python3"
  },
  "language_info": {
   "codemirror_mode": {
    "name": "ipython",
    "version": 3
   },
   "file_extension": ".py",
   "mimetype": "text/x-python",
   "name": "python",
   "nbconvert_exporter": "python",
   "pygments_lexer": "ipython3",
   "version": "3.8.8"
  }
 },
 "nbformat": 4,
 "nbformat_minor": 5
}
